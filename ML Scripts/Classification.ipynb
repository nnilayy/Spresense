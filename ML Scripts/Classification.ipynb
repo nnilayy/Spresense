{
  "cells": [
    {
      "cell_type": "markdown",
      "metadata": {
        "id": "view-in-github",
        "colab_type": "text"
      },
      "source": [
        "<a href=\"https://colab.research.google.com/github/nnilayy/Unet/blob/main/Classification.ipynb\" target=\"_parent\"><img src=\"https://colab.research.google.com/assets/colab-badge.svg\" alt=\"Open In Colab\"/></a>"
      ]
    },
    {
      "cell_type": "code",
      "execution_count": null,
      "metadata": {
        "id": "Faz4TOq7w8aW"
      },
      "outputs": [],
      "source": [
        "from tensorflow.keras.preprocessing.image import ImageDataGenerator\n",
        "import matplotlib.pyplot as plt \n",
        "import tensorflow as tf \n",
        "import numpy as np\n",
        "import cv2 \n",
        "import os "
      ]
    },
    {
      "cell_type": "code",
      "execution_count": null,
      "metadata": {
        "id": "J8-H0S62QVHQ",
        "colab": {
          "base_uri": "https://localhost:8080/"
        },
        "outputId": "e9dddc9d-34be-43ac-ad74-1b837ca3db2b"
      },
      "outputs": [
        {
          "output_type": "stream",
          "name": "stdout",
          "text": [
            "Mounted at /content/drive\n"
          ]
        }
      ],
      "source": [
        "from google.colab import drive\n",
        "drive.mount('/content/drive')"
      ]
    },
    {
      "cell_type": "markdown",
      "source": [
        "## Model Size\n"
      ],
      "metadata": {
        "id": "wmPkfImMe6pd"
      }
    },
    {
      "cell_type": "code",
      "source": [
        "IMAGE_SIZE=128"
      ],
      "metadata": {
        "id": "I5QOkbbRe89U"
      },
      "execution_count": null,
      "outputs": []
    },
    {
      "cell_type": "code",
      "execution_count": null,
      "metadata": {
        "id": "ZOy4Qb1rQvsK"
      },
      "outputs": [],
      "source": [
        "!mkdir \"/content/drive/MyDrive/dataset\""
      ]
    },
    {
      "cell_type": "code",
      "execution_count": null,
      "metadata": {
        "id": "5AORMhrHhkc7"
      },
      "outputs": [],
      "source": [
        "!unzip -q /content/drive/MyDrive/dataset.zip -d /content/drive/MyDrive/"
      ]
    },
    {
      "cell_type": "code",
      "execution_count": null,
      "metadata": {
        "id": "8isyhdy9wNzg"
      },
      "outputs": [],
      "source": [
        "train=ImageDataGenerator(\n",
        "                        # rescale=1/255,\n",
        "                         rotation_range=90,\n",
        "                         brightness_range=(0,1.5),\n",
        "                         zoom_range=0.2,\n",
        "                        #  shear_range=0.2,\n",
        "                         horizontal_flip=True,\n",
        "                         vertical_flip=True,\n",
        "                         fill_mode=\"nearest\",\n",
        "                         )\n",
        "valid=ImageDataGenerator(\n",
        "                              # rescale=1/255,\n",
        "                              rotation_range=90,\n",
        "                              brightness_range=(0,1.5),\n",
        "                              zoom_range=0.2,\n",
        "                              # shear_range=0.2,\n",
        "                              horizontal_flip=True,\n",
        "                              vertical_flip=True,\n",
        "                              fill_mode=\"nearest\",)"
      ]
    },
    {
      "cell_type": "code",
      "execution_count": null,
      "metadata": {
        "id": "_5KWdWhyx8PH",
        "colab": {
          "base_uri": "https://localhost:8080/"
        },
        "outputId": "379c3d1b-e53c-496f-8ffe-0c56fa17f336"
      },
      "outputs": [
        {
          "output_type": "stream",
          "name": "stdout",
          "text": [
            "Found 301 images belonging to 2 classes.\n",
            "Found 90 images belonging to 2 classes.\n"
          ]
        }
      ],
      "source": [
        "train_dataset=train.flow_from_directory('/content/drive/MyDrive/dataset_3/train',\n",
        "                                        target_size=(IMAGE_SIZE,IMAGE_SIZE),\n",
        "                                        batch_size=5,\n",
        "                                        class_mode='categorical',\n",
        "                                        color_mode='grayscale',\n",
        "                                        )\n",
        "val_dataset=valid.flow_from_directory('/content/drive/MyDrive/dataset_3/validation',\n",
        "                                        target_size=(IMAGE_SIZE,IMAGE_SIZE),\n",
        "                                        batch_size=5,\n",
        "                                        class_mode='categorical',\n",
        "                                        color_mode='grayscale'\n",
        "                                        )"
      ]
    },
    {
      "cell_type": "code",
      "source": [
        "val_dataset.class_indices"
      ],
      "metadata": {
        "colab": {
          "base_uri": "https://localhost:8080/"
        },
        "id": "6Ey9gH3etupz",
        "outputId": "0bed7391-5831-412d-b774-47dbafe0d42e"
      },
      "execution_count": null,
      "outputs": [
        {
          "output_type": "execute_result",
          "data": {
            "text/plain": [
              "{'Cracked': 0, 'Not Cracked': 1}"
            ]
          },
          "metadata": {},
          "execution_count": 6
        }
      ]
    },
    {
      "cell_type": "code",
      "execution_count": null,
      "metadata": {
        "id": "uOzuv6LKiGkI",
        "colab": {
          "base_uri": "https://localhost:8080/"
        },
        "outputId": "266d4f61-f3b3-46f8-8a65-c7f18fc41efd"
      },
      "outputs": [
        {
          "output_type": "stream",
          "name": "stdout",
          "text": [
            "Model: \"sequential_1\"\n",
            "_________________________________________________________________\n",
            " Layer (type)                Output Shape              Param #   \n",
            "=================================================================\n",
            " conv2d_6 (Conv2D)           (None, 128, 128, 16)      160       \n",
            "                                                                 \n",
            " conv2d_7 (Conv2D)           (None, 128, 128, 16)      2320      \n",
            "                                                                 \n",
            " average_pooling2d_3 (Averag  (None, 64, 64, 16)       0         \n",
            " ePooling2D)                                                     \n",
            "                                                                 \n",
            " conv2d_8 (Conv2D)           (None, 64, 64, 8)         1160      \n",
            "                                                                 \n",
            " conv2d_9 (Conv2D)           (None, 64, 64, 8)         584       \n",
            "                                                                 \n",
            " average_pooling2d_4 (Averag  (None, 32, 32, 8)        0         \n",
            " ePooling2D)                                                     \n",
            "                                                                 \n",
            " conv2d_10 (Conv2D)          (None, 32, 32, 8)         584       \n",
            "                                                                 \n",
            " conv2d_11 (Conv2D)          (None, 32, 32, 8)         584       \n",
            "                                                                 \n",
            " average_pooling2d_5 (Averag  (None, 16, 16, 8)        0         \n",
            " ePooling2D)                                                     \n",
            "                                                                 \n",
            " flatten_1 (Flatten)         (None, 2048)              0         \n",
            "                                                                 \n",
            " dense_1 (Dense)             (None, 2)                 4098      \n",
            "                                                                 \n",
            "=================================================================\n",
            "Total params: 9,490\n",
            "Trainable params: 9,490\n",
            "Non-trainable params: 0\n",
            "_________________________________________________________________\n"
          ]
        }
      ],
      "source": [
        "from tensorflow.keras.models import Sequential\n",
        "from tensorflow.keras.layers import Dense, Conv2D, MaxPooling2D, AveragePooling2D, Flatten, Dropout, BatchNormalization, InputLayer, Reshape\n",
        "\n",
        "model = Sequential()\n",
        "model.add(InputLayer((IMAGE_SIZE, IMAGE_SIZE, 1)))\n",
        "model.add(Conv2D(16, 3, padding='same', activation=\"relu\"))\n",
        "model.add(Conv2D(16, 3, padding='same', activation=\"relu\"))\n",
        "model.add(AveragePooling2D(2, padding='same'))\n",
        "model.add(Conv2D(8, 3, padding='same', activation=\"relu\"))\n",
        "model.add(Conv2D(8, 3, padding='same', activation=\"relu\"))\n",
        "model.add(AveragePooling2D(2, padding='same'))\n",
        "model.add(Conv2D(8, 3, padding='same', activation=\"relu\"))\n",
        "model.add(Conv2D(8, 3, padding='same', activation=\"relu\"))\n",
        "model.add(AveragePooling2D(2, padding='same'))\n",
        "model.add(Flatten())\n",
        "model.add(Dense(2, activation=\"softmax\"))\n",
        "model.summary()\n",
        "\n",
        "\n",
        "# ---------------------------------------------------------------------------------------------------\n",
        "# ---------------------------------------------------------------------------------------------------\n",
        "# (1)Params: 32,000\n",
        "# (2)Train_Accuracy: 85.45\n",
        "# (3)Val_Accuracy: 84.44\n",
        "# model = Sequential()\n",
        "# model.add(InputLayer(input_shape=(224, 224,3)))\n",
        "# model.add(Conv2D(16, 3, padding='same', activation=\"relu\"))\n",
        "# model.add(MaxPooling2D(2, padding='same'))\n",
        "# model.add(Conv2D(16, 3, padding='same', activation=\"relu\"))\n",
        "# model.add(MaxPooling2D(2, padding='same'))\n",
        "# model.add(Conv2D(16, 3, padding='same', activation=\"relu\"))\n",
        "# model.add(MaxPooling2D(2, padding='same'))\n",
        "# model.add(MaxPooling2D(2, padding='same'))\n",
        "# model.add(MaxPooling2D(2, padding='same'))\n",
        "# model.add(Flatten())\n",
        "# model.add(Dense(32, activation=\"relu\"))\n",
        "# model.add(Dense(1, activation=\"sigmoid\"))"
      ]
    },
    {
      "cell_type": "code",
      "execution_count": null,
      "metadata": {
        "id": "PYcT2fHW77gx",
        "colab": {
          "base_uri": "https://localhost:8080/"
        },
        "outputId": "687103f5-f742-43cb-f610-28f67c582509"
      },
      "outputs": [
        {
          "output_type": "stream",
          "name": "stdout",
          "text": [
            "Epoch 1/100\n",
            "32/32 [==============================] - 4s 46ms/step - loss: 0.9609 - accuracy: 0.5125 - val_loss: 0.7347 - val_accuracy: 0.4889\n",
            "Epoch 2/100\n",
            "32/32 [==============================] - 1s 39ms/step - loss: 0.7193 - accuracy: 0.5128 - val_loss: 0.6898 - val_accuracy: 0.5667\n",
            "Epoch 3/100\n",
            "32/32 [==============================] - 1s 42ms/step - loss: 0.6963 - accuracy: 0.5063 - val_loss: 0.6866 - val_accuracy: 0.5556\n",
            "Epoch 4/100\n",
            "32/32 [==============================] - 2s 58ms/step - loss: 0.6976 - accuracy: 0.4936 - val_loss: 0.6911 - val_accuracy: 0.5333\n",
            "Epoch 5/100\n",
            "32/32 [==============================] - 2s 54ms/step - loss: 0.7012 - accuracy: 0.4812 - val_loss: 0.6914 - val_accuracy: 0.5333\n",
            "Epoch 6/100\n",
            "32/32 [==============================] - 1s 41ms/step - loss: 0.7106 - accuracy: 0.5064 - val_loss: 0.6982 - val_accuracy: 0.5667\n",
            "Epoch 7/100\n",
            "32/32 [==============================] - 1s 39ms/step - loss: 0.6940 - accuracy: 0.5000 - val_loss: 0.6950 - val_accuracy: 0.5444\n",
            "Epoch 8/100\n",
            "32/32 [==============================] - 1s 40ms/step - loss: 0.7376 - accuracy: 0.5256 - val_loss: 0.7531 - val_accuracy: 0.5556\n",
            "Epoch 9/100\n",
            "32/32 [==============================] - 1s 40ms/step - loss: 0.7368 - accuracy: 0.4295 - val_loss: 0.6878 - val_accuracy: 0.5667\n",
            "Epoch 10/100\n",
            "32/32 [==============================] - 1s 40ms/step - loss: 0.6774 - accuracy: 0.5750 - val_loss: 0.6906 - val_accuracy: 0.5333\n",
            "Epoch 11/100\n",
            "32/32 [==============================] - 1s 39ms/step - loss: 0.6918 - accuracy: 0.4812 - val_loss: 0.6919 - val_accuracy: 0.5556\n",
            "Epoch 12/100\n",
            "32/32 [==============================] - 2s 54ms/step - loss: 0.6890 - accuracy: 0.5562 - val_loss: 0.6800 - val_accuracy: 0.6111\n",
            "Epoch 13/100\n",
            "32/32 [==============================] - 1s 38ms/step - loss: 0.6801 - accuracy: 0.5500 - val_loss: 0.6820 - val_accuracy: 0.5778\n",
            "Epoch 14/100\n",
            "32/32 [==============================] - 1s 40ms/step - loss: 0.6713 - accuracy: 0.6500 - val_loss: 0.6746 - val_accuracy: 0.6111\n",
            "Epoch 15/100\n",
            "32/32 [==============================] - 1s 41ms/step - loss: 0.6869 - accuracy: 0.5562 - val_loss: 0.6809 - val_accuracy: 0.6333\n",
            "Epoch 16/100\n",
            "32/32 [==============================] - 1s 41ms/step - loss: 0.6709 - accuracy: 0.6346 - val_loss: 0.6743 - val_accuracy: 0.6222\n",
            "Epoch 17/100\n",
            "32/32 [==============================] - 1s 41ms/step - loss: 0.6636 - accuracy: 0.7115 - val_loss: 0.6721 - val_accuracy: 0.5556\n",
            "Epoch 18/100\n",
            "32/32 [==============================] - 1s 41ms/step - loss: 0.6618 - accuracy: 0.6538 - val_loss: 0.6460 - val_accuracy: 0.8000\n",
            "Epoch 19/100\n",
            "32/32 [==============================] - 1s 39ms/step - loss: 0.6366 - accuracy: 0.6987 - val_loss: 0.5995 - val_accuracy: 0.7889\n",
            "Epoch 20/100\n",
            "32/32 [==============================] - 2s 48ms/step - loss: 0.6220 - accuracy: 0.6795 - val_loss: 0.5591 - val_accuracy: 0.7778\n",
            "Epoch 21/100\n",
            "32/32 [==============================] - 2s 49ms/step - loss: 0.5797 - accuracy: 0.7628 - val_loss: 0.5809 - val_accuracy: 0.7667\n",
            "Epoch 22/100\n",
            "32/32 [==============================] - 1s 39ms/step - loss: 0.5821 - accuracy: 0.7375 - val_loss: 0.5249 - val_accuracy: 0.8111\n",
            "Epoch 23/100\n",
            "32/32 [==============================] - 1s 39ms/step - loss: 0.5301 - accuracy: 0.7937 - val_loss: 0.4376 - val_accuracy: 0.8444\n",
            "Epoch 24/100\n",
            "32/32 [==============================] - 1s 40ms/step - loss: 0.5143 - accuracy: 0.7564 - val_loss: 0.4283 - val_accuracy: 0.8556\n",
            "Epoch 25/100\n",
            "32/32 [==============================] - 1s 39ms/step - loss: 0.5333 - accuracy: 0.7564 - val_loss: 0.4582 - val_accuracy: 0.8889\n",
            "Epoch 26/100\n",
            "32/32 [==============================] - 1s 41ms/step - loss: 0.5536 - accuracy: 0.7812 - val_loss: 0.5052 - val_accuracy: 0.8667\n",
            "Epoch 27/100\n",
            "32/32 [==============================] - 1s 39ms/step - loss: 0.5258 - accuracy: 0.8062 - val_loss: 0.4331 - val_accuracy: 0.8556\n",
            "Epoch 28/100\n",
            "32/32 [==============================] - 2s 58ms/step - loss: 0.4992 - accuracy: 0.7875 - val_loss: 0.4622 - val_accuracy: 0.8000\n",
            "Epoch 29/100\n",
            "32/32 [==============================] - 1s 43ms/step - loss: 0.5033 - accuracy: 0.8375 - val_loss: 0.3957 - val_accuracy: 0.8889\n",
            "Epoch 30/100\n",
            "32/32 [==============================] - 1s 42ms/step - loss: 0.5118 - accuracy: 0.8250 - val_loss: 0.4185 - val_accuracy: 0.8667\n",
            "Epoch 31/100\n",
            "32/32 [==============================] - 1s 39ms/step - loss: 0.5135 - accuracy: 0.8269 - val_loss: 0.3796 - val_accuracy: 0.9111\n",
            "Epoch 32/100\n",
            "32/32 [==============================] - 1s 40ms/step - loss: 0.4859 - accuracy: 0.8562 - val_loss: 0.3835 - val_accuracy: 0.9000\n",
            "Epoch 33/100\n",
            "32/32 [==============================] - 1s 39ms/step - loss: 0.4410 - accuracy: 0.8438 - val_loss: 0.4192 - val_accuracy: 0.8667\n",
            "Epoch 34/100\n",
            "32/32 [==============================] - 1s 38ms/step - loss: 0.4381 - accuracy: 0.8333 - val_loss: 0.4586 - val_accuracy: 0.8222\n",
            "Epoch 35/100\n",
            "32/32 [==============================] - 2s 55ms/step - loss: 0.3601 - accuracy: 0.9000 - val_loss: 0.3464 - val_accuracy: 0.8889\n",
            "Epoch 36/100\n",
            "32/32 [==============================] - 2s 49ms/step - loss: 0.4470 - accuracy: 0.8687 - val_loss: 0.3810 - val_accuracy: 0.9000\n",
            "Epoch 37/100\n",
            "32/32 [==============================] - 1s 38ms/step - loss: 0.4198 - accuracy: 0.8910 - val_loss: 0.3780 - val_accuracy: 0.8889\n",
            "Epoch 38/100\n",
            "32/32 [==============================] - 1s 38ms/step - loss: 0.3681 - accuracy: 0.8438 - val_loss: 0.3473 - val_accuracy: 0.8778\n",
            "Epoch 39/100\n",
            "32/32 [==============================] - 1s 39ms/step - loss: 0.4185 - accuracy: 0.8313 - val_loss: 0.3609 - val_accuracy: 0.8889\n",
            "Epoch 40/100\n",
            "32/32 [==============================] - 1s 37ms/step - loss: 0.4708 - accuracy: 0.8333 - val_loss: 0.3839 - val_accuracy: 0.9000\n",
            "Epoch 41/100\n",
            "32/32 [==============================] - 1s 40ms/step - loss: 0.4011 - accuracy: 0.8500 - val_loss: 0.3549 - val_accuracy: 0.8778\n",
            "Epoch 42/100\n",
            "32/32 [==============================] - 1s 38ms/step - loss: 0.3721 - accuracy: 0.8590 - val_loss: 0.4831 - val_accuracy: 0.8444\n",
            "Epoch 43/100\n",
            "32/32 [==============================] - 2s 50ms/step - loss: 0.4270 - accuracy: 0.8313 - val_loss: 0.3327 - val_accuracy: 0.8778\n",
            "Epoch 44/100\n",
            "32/32 [==============================] - 2s 48ms/step - loss: 0.4589 - accuracy: 0.8205 - val_loss: 0.4602 - val_accuracy: 0.8333\n",
            "Epoch 45/100\n",
            "32/32 [==============================] - 1s 40ms/step - loss: 0.4416 - accuracy: 0.7937 - val_loss: 0.3228 - val_accuracy: 0.9111\n",
            "Epoch 46/100\n",
            "32/32 [==============================] - 1s 38ms/step - loss: 0.4228 - accuracy: 0.8846 - val_loss: 0.3153 - val_accuracy: 0.9333\n",
            "Epoch 47/100\n",
            "32/32 [==============================] - 1s 39ms/step - loss: 0.3987 - accuracy: 0.8910 - val_loss: 0.3539 - val_accuracy: 0.9222\n",
            "Epoch 48/100\n",
            "32/32 [==============================] - 1s 40ms/step - loss: 0.3410 - accuracy: 0.8875 - val_loss: 0.3143 - val_accuracy: 0.8889\n",
            "Epoch 49/100\n",
            "32/32 [==============================] - 1s 45ms/step - loss: 0.4341 - accuracy: 0.8687 - val_loss: 0.3524 - val_accuracy: 0.9333\n",
            "Epoch 50/100\n",
            "32/32 [==============================] - 1s 38ms/step - loss: 0.4025 - accuracy: 0.8782 - val_loss: 0.3187 - val_accuracy: 0.9222\n",
            "Epoch 51/100\n",
            "32/32 [==============================] - 1s 37ms/step - loss: 0.4214 - accuracy: 0.8526 - val_loss: 0.3527 - val_accuracy: 0.8444\n",
            "Epoch 52/100\n",
            "32/32 [==============================] - 2s 51ms/step - loss: 0.3358 - accuracy: 0.9125 - val_loss: 0.2760 - val_accuracy: 0.8778\n",
            "Epoch 53/100\n",
            "32/32 [==============================] - 2s 51ms/step - loss: 0.3805 - accuracy: 0.8813 - val_loss: 0.2932 - val_accuracy: 0.9333\n",
            "Epoch 54/100\n",
            "32/32 [==============================] - 1s 38ms/step - loss: 0.3600 - accuracy: 0.9038 - val_loss: 0.4147 - val_accuracy: 0.8667\n",
            "Epoch 55/100\n",
            "32/32 [==============================] - 1s 39ms/step - loss: 0.3929 - accuracy: 0.8782 - val_loss: 0.3791 - val_accuracy: 0.8667\n",
            "Epoch 56/100\n",
            "32/32 [==============================] - 1s 39ms/step - loss: 0.3626 - accuracy: 0.8938 - val_loss: 0.2968 - val_accuracy: 0.9111\n",
            "Epoch 57/100\n",
            "32/32 [==============================] - 1s 38ms/step - loss: 0.3807 - accuracy: 0.9038 - val_loss: 0.2846 - val_accuracy: 0.9222\n",
            "Epoch 58/100\n",
            "32/32 [==============================] - 1s 40ms/step - loss: 0.3706 - accuracy: 0.8397 - val_loss: 0.2707 - val_accuracy: 0.9222\n",
            "Epoch 59/100\n",
            "32/32 [==============================] - 1s 39ms/step - loss: 0.3550 - accuracy: 0.8782 - val_loss: 0.3518 - val_accuracy: 0.8778\n",
            "Epoch 60/100\n",
            "32/32 [==============================] - 1s 38ms/step - loss: 0.3574 - accuracy: 0.8782 - val_loss: 0.3362 - val_accuracy: 0.8778\n",
            "Epoch 61/100\n",
            "32/32 [==============================] - 2s 52ms/step - loss: 0.3468 - accuracy: 0.8846 - val_loss: 0.2869 - val_accuracy: 0.9000\n",
            "Epoch 62/100\n",
            "32/32 [==============================] - 2s 59ms/step - loss: 0.3292 - accuracy: 0.8875 - val_loss: 0.3440 - val_accuracy: 0.9000\n",
            "Epoch 63/100\n",
            "32/32 [==============================] - 1s 39ms/step - loss: 0.3547 - accuracy: 0.8462 - val_loss: 0.3389 - val_accuracy: 0.8333\n",
            "Epoch 64/100\n",
            "32/32 [==============================] - 1s 39ms/step - loss: 0.4150 - accuracy: 0.8875 - val_loss: 0.4060 - val_accuracy: 0.8556\n",
            "Epoch 65/100\n",
            "32/32 [==============================] - 1s 39ms/step - loss: 0.3694 - accuracy: 0.8718 - val_loss: 0.2653 - val_accuracy: 0.9444\n",
            "Epoch 66/100\n",
            "32/32 [==============================] - 1s 38ms/step - loss: 0.3765 - accuracy: 0.8974 - val_loss: 0.2531 - val_accuracy: 0.8889\n",
            "Epoch 67/100\n",
            "32/32 [==============================] - 1s 38ms/step - loss: 0.3334 - accuracy: 0.8938 - val_loss: 0.3209 - val_accuracy: 0.9000\n",
            "Epoch 68/100\n",
            "32/32 [==============================] - 1s 40ms/step - loss: 0.3031 - accuracy: 0.9125 - val_loss: 0.2374 - val_accuracy: 0.9222\n",
            "Epoch 69/100\n",
            "32/32 [==============================] - 1s 38ms/step - loss: 0.2556 - accuracy: 0.9167 - val_loss: 0.2497 - val_accuracy: 0.9333\n",
            "Epoch 70/100\n",
            "32/32 [==============================] - 1s 43ms/step - loss: 0.2783 - accuracy: 0.9231 - val_loss: 0.2888 - val_accuracy: 0.8889\n",
            "Epoch 71/100\n",
            "32/32 [==============================] - 2s 59ms/step - loss: 0.3367 - accuracy: 0.9038 - val_loss: 0.2931 - val_accuracy: 0.9111\n",
            "Epoch 72/100\n",
            "32/32 [==============================] - 1s 43ms/step - loss: 0.4017 - accuracy: 0.8654 - val_loss: 0.2644 - val_accuracy: 0.9444\n",
            "Epoch 73/100\n",
            "32/32 [==============================] - 1s 40ms/step - loss: 0.3122 - accuracy: 0.8974 - val_loss: 0.2323 - val_accuracy: 0.9444\n",
            "Epoch 74/100\n",
            "32/32 [==============================] - 1s 40ms/step - loss: 0.3451 - accuracy: 0.8938 - val_loss: 0.2830 - val_accuracy: 0.9000\n",
            "Epoch 75/100\n",
            "32/32 [==============================] - 1s 43ms/step - loss: 0.2497 - accuracy: 0.9187 - val_loss: 0.2700 - val_accuracy: 0.9333\n",
            "Epoch 76/100\n",
            "32/32 [==============================] - 1s 39ms/step - loss: 0.3436 - accuracy: 0.9038 - val_loss: 0.2639 - val_accuracy: 0.9222\n",
            "Epoch 77/100\n",
            "32/32 [==============================] - 2s 50ms/step - loss: 0.2809 - accuracy: 0.8974 - val_loss: 0.3541 - val_accuracy: 0.8667\n",
            "Epoch 78/100\n",
            "32/32 [==============================] - 1s 45ms/step - loss: 0.3205 - accuracy: 0.9038 - val_loss: 0.2285 - val_accuracy: 0.9444\n",
            "Epoch 79/100\n",
            "32/32 [==============================] - 1s 39ms/step - loss: 0.3537 - accuracy: 0.8846 - val_loss: 0.2342 - val_accuracy: 0.9333\n",
            "Epoch 80/100\n",
            "32/32 [==============================] - 1s 40ms/step - loss: 0.3601 - accuracy: 0.9125 - val_loss: 0.3089 - val_accuracy: 0.8778\n",
            "Epoch 81/100\n",
            "32/32 [==============================] - 1s 40ms/step - loss: 0.2976 - accuracy: 0.8782 - val_loss: 0.3497 - val_accuracy: 0.8889\n",
            "Epoch 82/100\n",
            "32/32 [==============================] - 1s 40ms/step - loss: 0.2756 - accuracy: 0.9167 - val_loss: 0.2224 - val_accuracy: 0.9111\n",
            "Epoch 83/100\n",
            "32/32 [==============================] - 1s 39ms/step - loss: 0.3301 - accuracy: 0.9167 - val_loss: 0.2630 - val_accuracy: 0.8889\n",
            "Epoch 84/100\n",
            "32/32 [==============================] - 1s 39ms/step - loss: 0.2979 - accuracy: 0.9359 - val_loss: 0.2405 - val_accuracy: 0.9444\n",
            "Epoch 85/100\n",
            "32/32 [==============================] - 1s 40ms/step - loss: 0.2512 - accuracy: 0.9359 - val_loss: 0.1966 - val_accuracy: 0.9556\n",
            "Epoch 86/100\n",
            "32/32 [==============================] - 2s 54ms/step - loss: 0.3093 - accuracy: 0.9103 - val_loss: 0.2280 - val_accuracy: 0.9333\n",
            "Epoch 87/100\n",
            "32/32 [==============================] - 1s 42ms/step - loss: 0.2921 - accuracy: 0.9125 - val_loss: 0.2907 - val_accuracy: 0.9000\n",
            "Epoch 88/100\n",
            "32/32 [==============================] - 1s 38ms/step - loss: 0.2894 - accuracy: 0.9125 - val_loss: 0.2395 - val_accuracy: 0.9333\n",
            "Epoch 89/100\n",
            "32/32 [==============================] - 1s 38ms/step - loss: 0.2709 - accuracy: 0.9231 - val_loss: 0.2679 - val_accuracy: 0.9000\n",
            "Epoch 90/100\n",
            "32/32 [==============================] - 1s 40ms/step - loss: 0.2613 - accuracy: 0.9167 - val_loss: 0.2376 - val_accuracy: 0.9444\n",
            "Epoch 91/100\n",
            "32/32 [==============================] - 1s 39ms/step - loss: 0.2312 - accuracy: 0.9487 - val_loss: 0.2415 - val_accuracy: 0.9444\n",
            "Epoch 92/100\n",
            "32/32 [==============================] - 1s 39ms/step - loss: 0.2367 - accuracy: 0.9295 - val_loss: 0.3135 - val_accuracy: 0.9222\n",
            "Epoch 93/100\n",
            "32/32 [==============================] - 1s 42ms/step - loss: 0.3171 - accuracy: 0.8875 - val_loss: 0.3229 - val_accuracy: 0.8889\n",
            "Epoch 94/100\n",
            "32/32 [==============================] - 1s 40ms/step - loss: 0.3281 - accuracy: 0.8782 - val_loss: 0.1875 - val_accuracy: 0.9444\n",
            "Epoch 95/100\n",
            "32/32 [==============================] - 2s 54ms/step - loss: 0.2410 - accuracy: 0.9295 - val_loss: 0.3220 - val_accuracy: 0.8778\n",
            "Epoch 96/100\n",
            "32/32 [==============================] - 1s 41ms/step - loss: 0.2426 - accuracy: 0.9250 - val_loss: 0.2320 - val_accuracy: 0.9444\n",
            "Epoch 97/100\n",
            "32/32 [==============================] - 1s 41ms/step - loss: 0.3397 - accuracy: 0.9103 - val_loss: 0.2637 - val_accuracy: 0.9111\n",
            "Epoch 98/100\n",
            "32/32 [==============================] - 1s 40ms/step - loss: 0.2519 - accuracy: 0.9167 - val_loss: 0.2530 - val_accuracy: 0.9222\n",
            "Epoch 99/100\n",
            "32/32 [==============================] - 1s 38ms/step - loss: 0.3411 - accuracy: 0.9125 - val_loss: 0.2085 - val_accuracy: 0.9444\n",
            "Epoch 100/100\n",
            "32/32 [==============================] - 2s 56ms/step - loss: 0.3032 - accuracy: 0.9062 - val_loss: 0.2116 - val_accuracy: 0.9444\n"
          ]
        }
      ],
      "source": [
        "model.compile(loss=\"binary_crossentropy\", \n",
        "              optimizer=tf.keras.optimizers.Adamax(learning_rate=1e-3), \n",
        "              metrics=[\"accuracy\"])\n",
        "\n",
        "history=model.fit(train_dataset, \n",
        "                  steps_per_epoch=32, \n",
        "                  epochs=100, \n",
        "                  validation_data=val_dataset)"
      ]
    },
    {
      "cell_type": "code",
      "execution_count": null,
      "metadata": {
        "id": "1zENh4DQzNMb"
      },
      "outputs": [],
      "source": [
        "model.save(\"/content/model_128.h5\")"
      ]
    },
    {
      "cell_type": "code",
      "execution_count": null,
      "metadata": {
        "id": "uNewr2cLj5oq"
      },
      "outputs": [],
      "source": [
        "import cv2\n",
        "file=\"/content/images.jpg\"\n",
        "image=cv2.imread(file, cv2.IMREAD_GRAYSCALE)\n",
        "image=cv2.resize(image,(128,128))\n",
        "image=np.expand_dims(image,0)\n",
        "prediction=np.argmax(model.predict(image))\n",
        "print(model.predict(image))\n",
        "if prediction == 0:\n",
        "  print('Cracked')\n",
        "\n",
        "elif prediction==1:\n",
        "  print('Not Cracked')"
      ]
    },
    {
      "cell_type": "code",
      "execution_count": null,
      "metadata": {
        "id": "Rj6t3crLl_Y0"
      },
      "outputs": [],
      "source": [
        "import os\n",
        "def get_file_size(file_path):\n",
        "  size=os.path.getsize(file_path)\n",
        "  return size\n",
        "def convert_bytes(size,unit=None):\n",
        "  if unit==\"KB\":\n",
        "    return print(\"File size: \"+str(round(size/1024,3))+\" Kilobytes\")\n",
        "  elif unit==\"MB\":\n",
        "    return print(\"File size: \"+str(round(size/(1024*1024),3))+\" Megabytes\")\n",
        "  else:\n",
        "    return print(\"File size: \"+str(size)+\"bytes\")"
      ]
    },
    {
      "cell_type": "code",
      "execution_count": null,
      "metadata": {
        "id": "m52QuAlPl_Y3",
        "colab": {
          "base_uri": "https://localhost:8080/"
        },
        "outputId": "87b0181d-4d88-488f-b85a-845c259503c9"
      },
      "outputs": [
        {
          "output_type": "stream",
          "name": "stdout",
          "text": [
            "File size: 0.171 Megabytes\n"
          ]
        }
      ],
      "source": [
        "# Model Size Before Model Quantization\n",
        "model=\"/content/model_128.h5\"\n",
        "convert_bytes(get_file_size(model),\"MB\")"
      ]
    },
    {
      "cell_type": "code",
      "source": [
        "import glob\n",
        "import cv2\n",
        "import numpy as array \n",
        "files=glob.glob('/content/drive/MyDrive/dataset_3/train/Cracked/*')\n",
        "images=[]\n",
        "for file in files:\n",
        "  image=cv2.imread(file, cv2.IMREAD_GRAYSCALE)\n",
        "  image=cv2.resize(image,(128,128))\n",
        "  # image=image/255\n",
        "  image=np.array(image,dtype=np.float32)\n",
        "  images.append(image)"
      ],
      "metadata": {
        "id": "1yX0NVa1Mt5_"
      },
      "execution_count": null,
      "outputs": []
    },
    {
      "cell_type": "code",
      "source": [
        "images=np.array(images)\n",
        "# images=np.squeeze(images,-1)\n",
        "images.shape"
      ],
      "metadata": {
        "id": "uqNtH6TzNJ_Z",
        "colab": {
          "base_uri": "https://localhost:8080/"
        },
        "outputId": "991a6095-9ea3-467e-d0d9-ad898a221586"
      },
      "execution_count": null,
      "outputs": [
        {
          "output_type": "execute_result",
          "data": {
            "text/plain": [
              "(149, 128, 128)"
            ]
          },
          "metadata": {},
          "execution_count": 25
        }
      ]
    },
    {
      "cell_type": "code",
      "source": [
        "def dataset_generator():\n",
        "   for i in range(100):\n",
        "      input_image = tf.cast(images[i], tf.float32)\n",
        "      input_image = tf.reshape(input_image, [1,128,128,1])\n",
        "      yield ([input_image])"
      ],
      "metadata": {
        "id": "OfpCeOl2N8T8"
      },
      "execution_count": null,
      "outputs": []
    },
    {
      "cell_type": "code",
      "execution_count": null,
      "metadata": {
        "id": "BCvfDqxtmtD0",
        "colab": {
          "base_uri": "https://localhost:8080/"
        },
        "outputId": "9a0415be-b5a8-416c-9e4e-dd3a92d092e0"
      },
      "outputs": [
        {
          "output_type": "stream",
          "name": "stderr",
          "text": [
            "WARNING:absl:Found untraced functions such as _jit_compiled_convolution_op, _jit_compiled_convolution_op, _jit_compiled_convolution_op, _jit_compiled_convolution_op, _jit_compiled_convolution_op while saving (showing 5 of 7). These functions will not be directly callable after loading.\n",
            "/usr/local/lib/python3.9/dist-packages/tensorflow/lite/python/convert.py:789: UserWarning: Statistics for quantized inputs were expected, but not specified; continuing anyway.\n",
            "  warnings.warn(\"Statistics for quantized inputs were expected, but not \"\n"
          ]
        },
        {
          "output_type": "execute_result",
          "data": {
            "text/plain": [
              "17720"
            ]
          },
          "metadata": {},
          "execution_count": 27
        }
      ],
      "source": [
        "import tensorflow as tf\n",
        "model=\"/content/model_128.h5\"\n",
        "model=tf.keras.models.load_model(model)\n",
        "converter = tf.lite.TFLiteConverter.from_keras_model(model)\n",
        "converter.optimizations=[tf.lite.Optimize.DEFAULT]\n",
        "converter.target_spec.supported_ops = [tf.lite.OpsSet.TFLITE_BUILTINS_INT8]\n",
        "converter.representative_dataset=dataset_generator\n",
        "tflite_model_name=\"model.tflite\"\n",
        "tflite_model = converter.convert()\n",
        "open(tflite_model_name,\"wb\").write(tflite_model)"
      ]
    },
    {
      "cell_type": "code",
      "execution_count": null,
      "metadata": {
        "id": "4sEBDJwxmtD0",
        "colab": {
          "base_uri": "https://localhost:8080/"
        },
        "outputId": "e21ff187-c1a1-4e34-ea0b-1cdf870703cf"
      },
      "outputs": [
        {
          "output_type": "stream",
          "name": "stdout",
          "text": [
            "File size: 17.305 Kilobytes\n"
          ]
        }
      ],
      "source": [
        "# Model Size After Model Quantization\n",
        "tflite_model=\"/content/model.tflite\"\n",
        "convert_bytes(get_file_size(tflite_model),\"KB\")"
      ]
    },
    {
      "cell_type": "code",
      "source": [
        "import binascii\n",
        "def convert_to_c_array(bytes) -> str:\n",
        "  hexstr = binascii.hexlify(bytes).decode(\"UTF-8\")\n",
        "  hexstr = hexstr.upper()\n",
        "  array = [\"0x\" + hexstr[i:i + 2] for i in range(0, len(hexstr), 2)]\n",
        "  array = [array[i:i+10] for i in range(0, len(array), 10)]\n",
        "  return \",\\n  \".join([\", \".join(e) for e in array])\n",
        "\n",
        "tflite_binary = open('model.tflite', 'rb').read()\n",
        "ascii_bytes = convert_to_c_array(tflite_binary)\n",
        "header_file = \"const unsigned char model_tflite[] = {\\n  \" + ascii_bytes + \"\\n};\\nunsigned int model_tflite_len = \" + str(len(tflite_binary)) + \";\"\n",
        "open(\"model_128.h\", \"w\").write(header_file)\n",
        "convert_bytes(get_file_size('/content/model_128.h'),\"KB\")"
      ],
      "metadata": {
        "id": "5l2VaKpWxfvE",
        "colab": {
          "base_uri": "https://localhost:8080/"
        },
        "outputId": "e9ecb1ed-b807-4ba7-b04c-f819ee9e0538"
      },
      "execution_count": null,
      "outputs": [
        {
          "output_type": "stream",
          "name": "stdout",
          "text": [
            "File size: 107.366 Kilobytes\n"
          ]
        }
      ]
    },
    {
      "cell_type": "code",
      "source": [
        "# train_data=train_dataset[0]\n",
        "# X_train=train_data[0]\n",
        "# y_train=train_data[1]\n",
        "\n",
        "# test_data=val_dataset[0]\n",
        "# X_test=test_data[0]\n",
        "# y_test=test_data[1]\n",
        "\n",
        "# print(X_train.shape,X_test.shape,y_train.shape,y_test.shape)\n",
        "# # print(y_test)"
      ],
      "metadata": {
        "id": "xPCDgWWCGppa"
      },
      "execution_count": null,
      "outputs": []
    },
    {
      "cell_type": "code",
      "source": [
        "for layer in model.layers:\n",
        "  print(layer.get_config()['name'])"
      ],
      "metadata": {
        "id": "PeWBgQDNBTzS"
      },
      "execution_count": null,
      "outputs": []
    },
    {
      "cell_type": "code",
      "execution_count": null,
      "metadata": {
        "id": "1muAoUm8lSXL"
      },
      "outputs": [],
      "source": [
        "# Convert the model to the TensorFlow Lite format without quantization\n",
        "converter = tf.lite.TFLiteConverter.from_saved_model(MODEL_TF)\n",
        "model_no_quant_tflite = converter.convert()\n",
        "\n",
        "# Save the model to disk\n",
        "open(MODEL_NO_QUANT_TFLITE, \"wb\").write(model_no_quant_tflite)\n",
        "\n",
        "# Convert the model to the TensorFlow Lite format with quantization\n",
        "def representative_dataset():\n",
        "  for i in range(500):\n",
        "    yield([x_train[i].reshape(1, 1)])\n",
        "# Set the optimization flag.\n",
        "converter.optimizations = [tf.lite.Optimize.DEFAULT]\n",
        "# Enforce integer only quantization\n",
        "converter.target_spec.supported_ops = [tf.lite.OpsSet.TFLITE_BUILTINS_INT8]\n",
        "# Provide a representative dataset to ensure we quantize correctly.\n",
        "converter.representative_dataset = representative_dataset\n",
        "model_tflite = converter.convert()\n",
        "\n",
        "# Save the model to disk\n",
        "open(MODEL_TFLITE, \"wb\").write(model_tflite)"
      ]
    }
  ],
  "metadata": {
    "accelerator": "GPU",
    "colab": {
      "provenance": [],
      "authorship_tag": "ABX9TyManb3/FEi82/XXsY1W6aXE",
      "include_colab_link": true
    },
    "gpuClass": "standard",
    "kernelspec": {
      "display_name": "Python 3",
      "name": "python3"
    },
    "language_info": {
      "name": "python"
    }
  },
  "nbformat": 4,
  "nbformat_minor": 0
}