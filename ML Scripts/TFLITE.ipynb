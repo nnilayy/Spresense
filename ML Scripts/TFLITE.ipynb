{
  "nbformat": 4,
  "nbformat_minor": 0,
  "metadata": {
    "colab": {
      "provenance": [],
      "authorship_tag": "ABX9TyPccM8VumnsDEd0SIIA8e04",
      "include_colab_link": true
    },
    "kernelspec": {
      "name": "python3",
      "display_name": "Python 3"
    },
    "language_info": {
      "name": "python"
    }
  },
  "cells": [
    {
      "cell_type": "markdown",
      "metadata": {
        "id": "view-in-github",
        "colab_type": "text"
      },
      "source": [
        "<a href=\"https://colab.research.google.com/github/nnilayy/Unet/blob/main/TFLITE.ipynb\" target=\"_parent\"><img src=\"https://colab.research.google.com/assets/colab-badge.svg\" alt=\"Open In Colab\"/></a>"
      ]
    },
    {
      "cell_type": "code",
      "source": [
        "from google.colab import drive\n",
        "drive.mount('/content/drive')"
      ],
      "metadata": {
        "id": "esJE2uN6zlsL",
        "colab": {
          "base_uri": "https://localhost:8080/"
        },
        "outputId": "508357a3-e4f2-4035-8763-c38054b72b9d"
      },
      "execution_count": 1,
      "outputs": [
        {
          "output_type": "stream",
          "name": "stdout",
          "text": [
            "Mounted at /content/drive\n"
          ]
        }
      ]
    },
    {
      "cell_type": "code",
      "source": [
        "model=\"/content/drive/MyDrive/model_1.h5\""
      ],
      "metadata": {
        "id": "55apsonRENr_"
      },
      "execution_count": 2,
      "outputs": []
    },
    {
      "cell_type": "code",
      "execution_count": null,
      "metadata": {
        "id": "kkHZQlQQIEg8"
      },
      "outputs": [],
      "source": [
        "import tensorflow as tf \n",
        "\n",
        "model=tf.keras.models.load_model(model)\n",
        "converter = tf.lite.TFLiteConverter.from_keras_model(model)\n",
        "converter.optimizations=[tf.lite.Optimize.DEFAULT]\n",
        "converter.target_spec.supported_types=[tf.uint8]\n",
        "model=converter.convert()\n",
        "\n",
        "interpreter=tf.lite.Interpreter(model_path='path')\n",
        "input=interpreter.get_input_details()\n",
        "output=interpreter.get_input_details()"
      ]
    },
    {
      "cell_type": "markdown",
      "source": [
        "Hi\n"
      ],
      "metadata": {
        "id": "fdDCOxAyJCxE"
      }
    },
    {
      "cell_type": "code",
      "execution_count": null,
      "metadata": {
        "id": "X8n7AXkkmbg6"
      },
      "outputs": [],
      "source": [
        "import os\n",
        "def get_file_size(file_path):\n",
        "  size=os.path.getsize(file_path)\n",
        "  return size"
      ]
    },
    {
      "cell_type": "code",
      "source": [
        "def convert_bytes(size,unit=None):\n",
        "  if unit==\"KB\":\n",
        "    return print(\"File size: \"+str(round(size/1024,3))+\" Kilobytes\")\n",
        "  elif unit==\"MB\":\n",
        "    return print(\"File size: \"+str(round(size/(1024*1024),3))+\" Megabytes\")\n",
        "  else:\n",
        "    return print(\"File size: \"+str(size)+\"bytes\")"
      ],
      "metadata": {
        "id": "CwszOo31rBJb"
      },
      "execution_count": null,
      "outputs": []
    },
    {
      "cell_type": "markdown",
      "source": [
        "## TFLite Model"
      ],
      "metadata": {
        "id": "cD6d97txukdt"
      }
    },
    {
      "cell_type": "code",
      "source": [
        "# Model Size Before Model Quantization\n",
        "convert_bytes(get_file_size(model),\"MB\")"
      ],
      "metadata": {
        "colab": {
          "base_uri": "https://localhost:8080/"
        },
        "outputId": "5281acd4-c308-45cf-c4ca-b0ed5c79f620",
        "id": "g4S-i8RKD8vG"
      },
      "execution_count": null,
      "outputs": [
        {
          "output_type": "stream",
          "name": "stdout",
          "text": [
            "File size: 0.429 Megabytes\n"
          ]
        }
      ]
    },
    {
      "cell_type": "code",
      "source": [
        "\n",
        "# converter.experimental_new_converter = True\n",
        "# converter.optimizations=[tf.lite.Optimize.OPTIMIZE_FOR_SIZE]\n",
        "# To a specific type of value optimization \n",
        "tflite_model_name=\"model.tflite\"\n",
        "tflite_model = converter.convert()\n",
        "open(tflite_model_name,\"wb\").write(tflite_model)"
      ],
      "metadata": {
        "id": "4sPioRvD91WU",
        "colab": {
          "base_uri": "https://localhost:8080/"
        },
        "outputId": "2473e6c7-cb3b-42b2-fa5b-46d5d674b05b"
      },
      "execution_count": null,
      "outputs": [
        {
          "output_type": "stream",
          "name": "stderr",
          "text": [
            "WARNING:absl:Found untraced functions such as _jit_compiled_convolution_op, _jit_compiled_convolution_op, _jit_compiled_convolution_op, _jit_compiled_convolution_op, _update_step_xla while saving (showing 5 of 5). These functions will not be directly callable after loading.\n"
          ]
        },
        {
          "output_type": "execute_result",
          "data": {
            "text/plain": [
              "135384"
            ]
          },
          "metadata": {},
          "execution_count": 35
        }
      ]
    },
    {
      "cell_type": "code",
      "source": [
        "# Model Size After Model Quantization\n",
        "tflite_model=\"/content/model.tflite\"\n",
        "convert_bytes(get_file_size(tflite_model),\"MB\")"
      ],
      "metadata": {
        "id": "K368QGNq-_MV",
        "colab": {
          "base_uri": "https://localhost:8080/"
        },
        "outputId": "28ef47d4-5913-4a78-c9dd-1b782a931a6f"
      },
      "execution_count": null,
      "outputs": [
        {
          "output_type": "stream",
          "name": "stdout",
          "text": [
            "File size: 0.129 Megabytes\n"
          ]
        }
      ]
    },
    {
      "cell_type": "code",
      "source": [
        "# https://www.youtube.com/watch?v=IuyTC-_otGw\n",
        "# https://www.youtube.com/watch?v=HXzz87WVm6c\n",
        "# https://www.youtube.com/watch?v=VPY7Itw6aiA"
      ],
      "metadata": {
        "id": "eYrGvhfH15O-"
      },
      "execution_count": null,
      "outputs": []
    },
    {
      "cell_type": "markdown",
      "source": [
        "## Increasing Accuracy of Model"
      ],
      "metadata": {
        "id": "LRURHwir79mD"
      }
    },
    {
      "cell_type": "code",
      "source": [
        "# Using Pretrained Convolutional Layers \n",
        "# Better Variant Dataset "
      ],
      "metadata": {
        "id": "cuwa66bJ78xG"
      },
      "execution_count": null,
      "outputs": []
    },
    {
      "cell_type": "markdown",
      "source": [
        "## Reducing Model Size: Model Pruning "
      ],
      "metadata": {
        "id": "nDpry18hDZSW"
      }
    },
    {
      "cell_type": "code",
      "source": [
        "# https://www.tensorflow.org/model_optimization/guide/pruning/pruning_with_keras\n",
        "# https://medium.com/analytics-vidhya/reducing-deep-learning-model-size-without-effecting-its-original-performance-and-accuracy-with-a809b49cf519"
      ],
      "metadata": {
        "id": "pIKBU20wDdkF"
      },
      "execution_count": null,
      "outputs": []
    },
    {
      "cell_type": "code",
      "source": [
        "import binascii\n",
        "def convert_to_c_array(bytes) -> str:\n",
        "  hexstr = binascii.hexlify(bytes).decode(\"UTF-8\")\n",
        "  hexstr = hexstr.upper()\n",
        "  array = [\"0x\" + hexstr[i:i + 2] for i in range(0, len(hexstr), 2)]\n",
        "  array = [array[i:i+10] for i in range(0, len(array), 10)]\n",
        "  return \",\\n  \".join([\", \".join(e) for e in array])\n",
        "\n",
        "tflite_binary = open('model.tflite', 'rb').read()\n",
        "ascii_bytes = convert_to_c_array(tflite_binary)\n",
        "header_file = \"const unsigned char model_tflite[] = {\\n  \" + ascii_bytes + \"\\n};\\nunsigned int model_tflite_len = \" + str(len(tflite_binary)) + \";\"\n",
        "with open(\"model.h\", \"w\") as f:\n",
        "    f.write(header_file)"
      ],
      "metadata": {
        "id": "4MO9t62OaAIU"
      },
      "execution_count": null,
      "outputs": []
    },
    {
      "cell_type": "code",
      "source": [
        "from tensorflow.keras.models import load_model\n",
        "model=\"/content/drive/MyDrive/model_1.h5\"\n",
        "model=load_model(model)"
      ],
      "metadata": {
        "id": "12-2ef68LI8u"
      },
      "execution_count": 10,
      "outputs": []
    },
    {
      "cell_type": "code",
      "source": [
        "import tensorflow as tf\n",
        "fb_model = tf.lite.TFLiteConverter.from_keras_model(model).convert()\n",
        "tf.lite.experimiental.Analyzer.analyze(model_content=fb_model, gpu_compatibility=True)"
      ],
      "metadata": {
        "id": "6ACUU_51KtGW"
      },
      "execution_count": null,
      "outputs": []
    }
  ]
}