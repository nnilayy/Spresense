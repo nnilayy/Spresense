{
  "nbformat": 4,
  "nbformat_minor": 0,
  "metadata": {
    "colab": {
      "provenance": [],
      "authorship_tag": "ABX9TyPM7HGnX8EHejOqKsspPtli",
      "include_colab_link": true
    },
    "kernelspec": {
      "name": "python3",
      "display_name": "Python 3"
    },
    "language_info": {
      "name": "python"
    },
    "gpuClass": "standard",
    "accelerator": "GPU"
  },
  "cells": [
    {
      "cell_type": "markdown",
      "metadata": {
        "id": "view-in-github",
        "colab_type": "text"
      },
      "source": [
        "<a href=\"https://colab.research.google.com/github/nnilayy/Unet/blob/main/nnom.ipynb\" target=\"_parent\"><img src=\"https://colab.research.google.com/assets/colab-badge.svg\" alt=\"Open In Colab\"/></a>"
      ]
    },
    {
      "cell_type": "markdown",
      "source": [
        "## Importing NNOM"
      ],
      "metadata": {
        "id": "8anVxJ3fRDQd"
      }
    },
    {
      "cell_type": "code",
      "execution_count": null,
      "metadata": {
        "id": "J8-H0S62QVHQ"
      },
      "outputs": [],
      "source": [
        "from google.colab import drive \n",
        "drive.mount('/content/drive') "
      ]
    },
    {
      "cell_type": "code",
      "source": [
        "! git clone https://github.com/majianjia/nnom"
      ],
      "metadata": {
        "id": "NnTO5Cf8R3L5"
      },
      "execution_count": null,
      "outputs": []
    },
    {
      "cell_type": "code",
      "source": [
        "from nnom.scripts.nnom_utils import generate_model"
      ],
      "metadata": {
        "id": "QoFQZPdYtUfp"
      },
      "execution_count": null,
      "outputs": []
    },
    {
      "cell_type": "markdown",
      "source": [
        "## Loading Model\n"
      ],
      "metadata": {
        "id": "1S17gqJlRBYN"
      }
    },
    {
      "cell_type": "code",
      "source": [
        "from keras.models import load_model\n",
        "import tensorflow as tf\n",
        "model = tf.keras.models.load_model(\"/content/model_0.h5\")"
      ],
      "metadata": {
        "id": "T23FunRt7_Lx"
      },
      "execution_count": null,
      "outputs": []
    },
    {
      "cell_type": "code",
      "source": [
        "model.summary()"
      ],
      "metadata": {
        "id": "i0U4igdgRoZG"
      },
      "execution_count": null,
      "outputs": []
    },
    {
      "cell_type": "markdown",
      "source": [
        "## Image Format"
      ],
      "metadata": {
        "id": "ysELsVweQ89V"
      }
    },
    {
      "cell_type": "code",
      "source": [
        "import cv2 \n",
        "import glob\n",
        "import numpy as np\n",
        "test_images=[]\n",
        "files=sorted(glob.glob('/content/drive/MyDrive/Balls/Images/*'))\n",
        "for file in files:\n",
        "  # image=cv2.imread(file)\n",
        "  image=cv2.imread(file,cv2.IMREAD_GRAYSCALE)\n",
        "  image=cv2.resize(image,(128,128))\n",
        "  image=image/255\n",
        "  test_images.append(image)"
      ],
      "metadata": {
        "id": "Tw6Y9NRO9LwF"
      },
      "execution_count": null,
      "outputs": []
    },
    {
      "cell_type": "code",
      "source": [
        "test_images=np.array(test_images)\n",
        "# test_images=np.expand_dims(test_images,-1)\n",
        "test_images=test_images[0:32]\n",
        "# test_images=np.expand_dims(test_images,0)\n",
        "test_images.shape"
      ],
      "metadata": {
        "id": "QDloI-JHU9gK"
      },
      "execution_count": null,
      "outputs": []
    },
    {
      "cell_type": "markdown",
      "source": [
        "## Generating Model"
      ],
      "metadata": {
        "id": "4maxcJKSSMBN"
      }
    },
    {
      "cell_type": "code",
      "source": [
        "generate_model(model, test_images, name='weights.h')"
      ],
      "metadata": {
        "id": "pHkxPlgaFttw"
      },
      "execution_count": null,
      "outputs": []
    }
  ]
}