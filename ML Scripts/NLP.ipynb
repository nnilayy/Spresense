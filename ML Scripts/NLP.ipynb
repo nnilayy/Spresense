{
  "nbformat": 4,
  "nbformat_minor": 0,
  "metadata": {
    "colab": {
      "provenance": [],
      "authorship_tag": "ABX9TyPHl083Y2TKVEn6LsntFKsx",
      "include_colab_link": true
    },
    "kernelspec": {
      "name": "python3",
      "display_name": "Python 3"
    },
    "language_info": {
      "name": "python"
    }
  },
  "cells": [
    {
      "cell_type": "markdown",
      "metadata": {
        "id": "view-in-github",
        "colab_type": "text"
      },
      "source": [
        "<a href=\"https://colab.research.google.com/github/nnilayy/NLP/blob/main/NLP.ipynb\" target=\"_parent\"><img src=\"https://colab.research.google.com/assets/colab-badge.svg\" alt=\"Open In Colab\"/></a>"
      ]
    },
    {
      "cell_type": "code",
      "execution_count": null,
      "metadata": {
        "id": "P0ehKJpLpz66"
      },
      "outputs": [],
      "source": []
    },
    {
      "cell_type": "code",
      "source": [
        "# Converts Entire Reviews samples to lower case\n",
        "df['review']=df['review'].str.lower()"
      ],
      "metadata": {
        "id": "nmJxgxeZqxpl"
      },
      "execution_count": null,
      "outputs": []
    },
    {
      "cell_type": "code",
      "source": [
        "# Removing Html Tags Using Regex\n",
        "import re \n",
        "def remove_html_tags(text):\n",
        "  pattern=re.compile('<.*?>')\n",
        "  return pattern.sub(r'',text)\n",
        "\n",
        "# To Apply a function on an entrie dataframe\n",
        "df['review'].apply(remove_html_tags)\n",
        "\n",
        "# Another Example\n",
        "# To remmove url from data\n",
        "\n",
        "def remove_url(text):\n",
        "  pattern=re.compile(r'https://\\S+|www\\.\\S+')\n",
        "  return pattern.sub(r'',text)\n",
        "\n",
        "df['review'].apply(remove_url)"
      ],
      "metadata": {
        "id": "HbEU6uWWq5jL"
      },
      "execution_count": null,
      "outputs": []
    },
    {
      "cell_type": "code",
      "source": [
        "# Removing Punctuation Marks\n",
        "import string \n",
        "exclude=string.punctuation\n",
        "def remove_punc(text):\n",
        "  for char in exclude:\n",
        "    text=text.replace(char,'')\n",
        "    return text\n",
        "# Faster Approach for Removing Punctuation\n",
        "def remove_punc(text):\n",
        "  \n",
        "  return text.translate(str.maketrans('','',exclude))"
      ],
      "metadata": {
        "id": "j_vSmjgTrYLd"
      },
      "execution_count": null,
      "outputs": []
    },
    {
      "cell_type": "code",
      "source": [
        "#  Converting words like lmao to Full forms"
      ],
      "metadata": {
        "id": "_ZEXxjo_rwU1"
      },
      "execution_count": null,
      "outputs": []
    },
    {
      "cell_type": "code",
      "source": [
        "# Spell Correction \n",
        "from textblob import TextBlob \n",
        "text=\"\"\n",
        "textBlB=TextBlob(text)\n",
        "textBlB.correct().string"
      ],
      "metadata": {
        "id": "NoXnwSMlu67E"
      },
      "execution_count": null,
      "outputs": []
    },
    {
      "cell_type": "code",
      "source": [
        "import nltk\n",
        "nltk.download('stopwords')\n",
        "from nltk.corpus import stopwords\n",
        "stopwords.words('english')"
      ],
      "metadata": {
        "id": "lZVqw4N3v099"
      },
      "execution_count": null,
      "outputs": []
    },
    {
      "cell_type": "code",
      "source": [
        "# Removing Stopwords\n",
        "def remove_stopwords(text):\n",
        "  new_text=[]\n",
        "\n",
        "  for word in text.split():\n",
        "    if word in stopword"
      ],
      "metadata": {
        "id": "Utv2jZukwRap"
      },
      "execution_count": null,
      "outputs": []
    },
    {
      "cell_type": "code",
      "source": [
        "# https://www.youtube.com/watch?v=6C0sLtw5ctc&list=PLKnIA16_RmvZo7fp5kkIth6nRTeQQsjfX&index=3\n",
        "# Removing Emojis \n",
        "# (1)Remove the emojis\n",
        "# (2)Replace with similar meaning \n",
        "!pip install emoji\n",
        "import emoji\n",
        "text =\"Lmao Amirite, 😂\"\n",
        "demojized_text=emoji.demojize(text)\n",
        "print(demojized_text)"
      ],
      "metadata": {
        "id": "z_9XXTL1xLKb"
      },
      "execution_count": null,
      "outputs": []
    },
    {
      "cell_type": "code",
      "source": [
        "# Tokenization \n",
        "# Meaning: Breaking sof text into smaller parts, words, sentences, phrases\n",
        "# Need: Why tokenize-\n",
        "text=\"I am so red bussy\"\n",
        "text.split()\n",
        "# split() function \n",
        "# Regexes\n",
        "# NLTK\n",
        "# Spacy-Best Library for Tokenization\n",
        "import spacy\n",
        "nlp=spacy.load('en_core_web_sm')\n",
        "doc=nlp(text)\n",
        "\n",
        "# Note:  for pos_tagging, we dont remove stop words"
      ],
      "metadata": {
        "id": "U6zBh6CGyoOX"
      },
      "execution_count": null,
      "outputs": []
    },
    {
      "cell_type": "code",
      "source": [
        "# Stemming/Lemmatization: Converting stem words to a singular root word\n",
        "PorterStemmer\n",
        "SnowballStemmer\n",
        "from nltk.stem.porter import PorterStemmer\n",
        "ps=PorterStemmer()\n",
        "def stem_words(text):\n",
        "  return ' '.join([ps.stem(word) for word in text.split()])\n",
        " \n",
        "# Lemmatization\n",
        "# Lemmatization and Stemming do the same things\n",
        "# Lemmatization returns a word in English \n",
        "# Stemming doesn't return a word in English\n",
        "# Lemmatization is slower than stemming\n"
      ],
      "metadata": {
        "id": "qyParSFaSiJG"
      },
      "execution_count": null,
      "outputs": []
    },
    {
      "cell_type": "markdown",
      "source": [
        "## Feature Extraction | Text Representation | Text Vectorization"
      ],
      "metadata": {
        "id": "exGmPAvmYTUw"
      }
    },
    {
      "cell_type": "code",
      "source": [
        "# Converting text to numbers\n",
        "# (1)One Hot Encoding \n",
        "# (2)Bag Of Words \n",
        "# (3)ngrams \n",
        "# (4)TfIdf\n",
        "# (5)Custom Features \n",
        "# (6)Word2Vec/Embedding\n"
      ],
      "metadata": {
        "id": "u5pH2XntYZ_y"
      },
      "execution_count": null,
      "outputs": []
    },
    {
      "cell_type": "code",
      "source": [
        "# Corpus: Combining/Joining all the samples of the dataset to create a big paragraph \n",
        "# Vocabulary: uique words in the corpus\n",
        "# Document: A single sample/ row is called a document\n",
        "# Word: A word within a document is called word "
      ],
      "metadata": {
        "id": "qXb4jB2OadRJ"
      },
      "execution_count": null,
      "outputs": []
    }
  ]
}