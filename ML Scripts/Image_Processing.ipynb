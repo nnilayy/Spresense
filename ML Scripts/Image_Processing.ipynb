{
  "cells": [
    {
      "cell_type": "markdown",
      "metadata": {
        "id": "view-in-github",
        "colab_type": "text"
      },
      "source": [
        "<a href=\"https://colab.research.google.com/github/nnilayy/Unet/blob/main/Image_Processing.ipynb\" target=\"_parent\"><img src=\"https://colab.research.google.com/assets/colab-badge.svg\" alt=\"Open In Colab\"/></a>"
      ]
    },
    {
      "cell_type": "code",
      "source": [
        "from google.colab import drive \n",
        "drive.mount('/content/drive')"
      ],
      "metadata": {
        "id": "4CaFp6Zi9eLa"
      },
      "execution_count": null,
      "outputs": []
    },
    {
      "cell_type": "code",
      "source": [
        "!mkdir \"/content/drive/MyDrive/cracked_dataset\""
      ],
      "metadata": {
        "id": "Rh2-FDW46_rW"
      },
      "execution_count": null,
      "outputs": []
    },
    {
      "cell_type": "code",
      "source": [
        "import cv2 \n",
        "import os \n",
        "import glob\n",
        "import random\n",
        "# Loading and Shuffling Images\n",
        "# files=sorted(glob.glob(\"/content/drive/MyDrive/dataset_3/train/Cracked/*\"))\n",
        "# files=sorted(glob.glob(\"/content/drive/MyDrive/dataset_3/train/Not Cracked/*\"))\n",
        "# files=sorted(glob.glob(\"/content/drive/MyDrive/dataset_3/validation/Cracked/*\"))\n",
        "files=sorted(glob.glob(\"/content/drive/MyDrive/dataset_3/validation/Not Cracked/*\"))\n",
        "random.shuffle(files)\n",
        "\n",
        "# Save Path for Images\n",
        "# 0 Channel\n",
        "# path=\"/content/drive/MyDrive/dataset_0/train/Cracked/\"\n",
        "# path=\"/content/drive/MyDrive/dataset_0/train/Not Cracked/\"\n",
        "# path=\"/content/drive/MyDrive/dataset_0/validation/Cracked/\"\n",
        "# path=\"/content/drive/MyDrive/dataset_0/validation/Not Cracked/\"\n",
        "\n",
        "# 1 channel\n",
        "# path=\"/content/drive/MyDrive/dataset_1/train/Cracked/\"\n",
        "# path=\"/content/drive/MyDrive/dataset_1/train/Not Cracked/\"\n",
        "# path=\"/content/drive/MyDrive/dataset_1/validation/Cracked/\"\n",
        "path=\"/content/drive/MyDrive/dataset_1/validation/Not Cracked/\"\n",
        "\n",
        "# Image Processing[0]\n",
        "i=0\n",
        "for file in files:\n",
        "  image=cv2.imread(file,cv2.IMREAD_GRAYSCALE)\n",
        "  image=cv2.resize(image,(224,224))\n",
        "  image=np.expand_dims(image,-1)\n",
        "  cv2.imwrite(path+str(i)+\".jpg\",image)\n",
        "  # image = np.array(image, dtype='uint8')\n",
        "  # image=cv2.cvtColor(image, cv2.COLOR_BGR2GRAY)\n",
        "  i+=1"
      ],
      "metadata": {
        "id": "S0dlNNr-42L5"
      },
      "execution_count": 36,
      "outputs": []
    },
    {
      "cell_type": "code",
      "source": [
        "import cv2\n",
        "import numpy as np\n",
        "file='/content/1.jpg'\n",
        "image=cv2.imread(file,cv2.IMREAD_GRAYSCALE)\n",
        "image=cv2.resize(image,(224,224))\n",
        "image=np.expand_dims(image,-1)\n",
        "image.shape"
      ],
      "metadata": {
        "colab": {
          "base_uri": "https://localhost:8080/"
        },
        "id": "dgJ0r7dxCGU3",
        "outputId": "4a825818-1115-4bc2-d37a-48fa29bf16ed"
      },
      "execution_count": 32,
      "outputs": [
        {
          "output_type": "execute_result",
          "data": {
            "text/plain": [
              "(224, 224, 1)"
            ]
          },
          "metadata": {},
          "execution_count": 32
        }
      ]
    },
    {
      "cell_type": "code",
      "source": [
        "from google.colab.patches import cv2_imshow\n",
        "import cv2\n",
        "import numpy as np\n",
        "# image=cv2.imread(file, cv2.IMREAD_GRAYSCALE)\n",
        "image=cv2.imread(\"/content/0000.bmp\")\n",
        "# image=np.array(image,dtype='float32')\n",
        "cv2_imshow(image)\n",
        "\n",
        "print(image.dtype)"
      ],
      "metadata": {
        "id": "yGPpLSpH_EWv"
      },
      "execution_count": null,
      "outputs": []
    }
  ],
  "metadata": {
    "colab": {
      "provenance": [],
      "authorship_tag": "ABX9TyP5t/6T/KFwhLUZEJB8+OJr",
      "include_colab_link": true
    },
    "kernelspec": {
      "display_name": "Python 3",
      "name": "python3"
    },
    "language_info": {
      "name": "python"
    },
    "accelerator": "GPU",
    "gpuClass": "standard"
  },
  "nbformat": 4,
  "nbformat_minor": 0
}