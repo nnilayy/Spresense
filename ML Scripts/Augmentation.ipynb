{
  "nbformat": 4,
  "nbformat_minor": 0,
  "metadata": {
    "colab": {
      "provenance": [],
      "authorship_tag": "ABX9TyPPWKM0AFGQjfkLrOm+O1UM",
      "include_colab_link": true
    },
    "kernelspec": {
      "name": "python3",
      "display_name": "Python 3"
    },
    "language_info": {
      "name": "python"
    }
  },
  "cells": [
    {
      "cell_type": "markdown",
      "metadata": {
        "id": "view-in-github",
        "colab_type": "text"
      },
      "source": [
        "<a href=\"https://colab.research.google.com/github/nnilayy/Unet/blob/main/Augmentation.ipynb\" target=\"_parent\"><img src=\"https://colab.research.google.com/assets/colab-badge.svg\" alt=\"Open In Colab\"/></a>"
      ]
    },
    {
      "cell_type": "code",
      "source": [
        "import glob"
      ],
      "metadata": {
        "id": "3HA00xVHO7RD"
      },
      "execution_count": null,
      "outputs": []
    },
    {
      "cell_type": "code",
      "source": [
        "from google.colab import drive\n",
        "drive.mount(\"/content/drive\")"
      ],
      "metadata": {
        "id": "igVDrrS8PYia"
      },
      "execution_count": null,
      "outputs": []
    },
    {
      "cell_type": "code",
      "source": [
        "images=sorted(glob.glob(\"/content/drive/MyDrive/to_augment/*\"))"
      ],
      "metadata": {
        "id": "Ux9qxGtMOqCA"
      },
      "execution_count": null,
      "outputs": []
    },
    {
      "cell_type": "code",
      "source": [
        "from tensorflow.keras.preprocessing.image import ImageDataGenerator, array_to_img, img_to_array, load_img\n",
        "datagen=ImageDataGenerator(\n",
        "    rotation_range=360,\n",
        "    width_shift_range=0.05,\n",
        "    height_shift_range=0.05,\n",
        "    brightness_range=(0,0.8),\n",
        "    zoom_range=0.05,\n",
        "    horizontal_flip=True,\n",
        "    vertical_flip=True,\n",
        "    fill_mode=\"nearest\",\n",
        ")"
      ],
      "metadata": {
        "id": "5BYhr7ENOioO"
      },
      "execution_count": null,
      "outputs": []
    },
    {
      "cell_type": "code",
      "source": [
        "!mkdir \"/content/drive/MyDrive/Augmented/\""
      ],
      "metadata": {
        "id": "m9zJaWC_mXLA"
      },
      "execution_count": null,
      "outputs": []
    },
    {
      "cell_type": "code",
      "execution_count": null,
      "metadata": {
        "id": "jgsLytq5OVjp"
      },
      "outputs": [],
      "source": [
        "increment=0\n",
        "for image in images:\n",
        "  img=load_img(image)\n",
        "  x=img_to_array(img)\n",
        "  x=x.reshape((1,)+x.shape) \n",
        "  i=1\n",
        "  for batch in datagen.flow(x,batch_size=1,save_to_dir=\"/content/drive/MyDrive/Augmented/\",save_prefix=str(increment),save_format=\"jpg\",seed=42):\n",
        "    i+=1\n",
        "    if i>4:\n",
        "      break\n",
        " \n",
        "  increment=increment+1"
      ]
    }
  ]
}