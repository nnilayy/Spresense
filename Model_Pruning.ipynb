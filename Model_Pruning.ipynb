{
  "nbformat": 4,
  "nbformat_minor": 0,
  "metadata": {
    "colab": {
      "provenance": [],
      "authorship_tag": "ABX9TyMpxRxkmJU9OkgRDyfAWlzO",
      "include_colab_link": true
    },
    "kernelspec": {
      "name": "python3",
      "display_name": "Python 3"
    },
    "language_info": {
      "name": "python"
    }
  },
  "cells": [
    {
      "cell_type": "markdown",
      "metadata": {
        "id": "view-in-github",
        "colab_type": "text"
      },
      "source": [
        "<a href=\"https://colab.research.google.com/github/nnilayy/Unet/blob/main/Model_Pruning.ipynb\" target=\"_parent\"><img src=\"https://colab.research.google.com/assets/colab-badge.svg\" alt=\"Open In Colab\"/></a>"
      ]
    },
    {
      "cell_type": "code",
      "source": [
        "import tensorflow_model_optimization as tfmot\n",
        "from keras.models import load_model\n",
        "import tensorflow as tf"
      ],
      "metadata": {
        "id": "pzfG1D7jS70N"
      },
      "execution_count": null,
      "outputs": []
    },
    {
      "cell_type": "code",
      "source": [
        "model = tf.keras.models.load_model(\"/content/model_0.h5\")"
      ],
      "metadata": {
        "id": "pP_yRdgqTSWu"
      },
      "execution_count": null,
      "outputs": []
    },
    {
      "cell_type": "code",
      "execution_count": null,
      "metadata": {
        "id": "0htAYyVySiuk"
      },
      "outputs": [],
      "source": [
        "pruning_params = {\n",
        "    'pruning_schedule': tfmot.sparsity.keras.PolynomialDecay(\n",
        "        initial_sparsity=0.0,\n",
        "        final_sparsity=0.75,\n",
        "        begin_step=1000,\n",
        "        end_step=5000\n",
        "        )\n",
        "    }\n",
        "model = tfmot.sparsity.keras.prune_low_magnitude(model, **pruning_params,.)\n",
        "pruning_callback = tfmot.sparsity.keras.UpdatePruningStep()"
      ]
    },
    {
      "cell_type": "code",
      "source": [
        "model.compile(\n",
        "    loss=\"mse\",\n",
        "    optimizer=tf.keras.optimizers.Adam(learning_rate=0.001)\n",
        ")\n",
        "model.fit(\n",
        "    x_train, \n",
        "    y_train, \n",
        "    epochs=200, \n",
        "    batch_size=32, \n",
        "    callbacks= pruning_callback, \n",
        "    verbose=1\n",
        ")"
      ],
      "metadata": {
        "id": "YxOd-CiQUOve"
      },
      "execution_count": null,
      "outputs": []
    }
  ]
}