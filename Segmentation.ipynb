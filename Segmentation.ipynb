{
  "cells": [
    {
      "cell_type": "markdown",
      "metadata": {
        "id": "view-in-github",
        "colab_type": "text"
      },
      "source": [
        "<a href=\"https://colab.research.google.com/github/nnilayy/Unet/blob/main/Segmentation.ipynb\" target=\"_parent\"><img src=\"https://colab.research.google.com/assets/colab-badge.svg\" alt=\"Open In Colab\"/></a>"
      ]
    },
    {
      "cell_type": "code",
      "execution_count": null,
      "metadata": {
        "id": "FkRHSe0ZPmWt"
      },
      "outputs": [],
      "source": [
        "import cv2\n",
        "import glob \n",
        "import numpy as np\n",
        "import matplotlib.pyplot as plt\n",
        "from google.colab.patches import cv2_imshow\n",
        "import tensorflow as tf"
      ]
    },
    {
      "cell_type": "markdown",
      "metadata": {
        "id": "xJREi9-7H2y4"
      },
      "source": [
        "## Drive"
      ]
    },
    {
      "cell_type": "code",
      "execution_count": null,
      "metadata": {
        "id": "tbrAFatrHb5K"
      },
      "outputs": [],
      "source": [
        "from google.colab import drive\n",
        "drive.mount('/content/drive')"
      ]
    },
    {
      "cell_type": "markdown",
      "metadata": {
        "id": "zXvXyzHwEsvp"
      },
      "source": [
        "## Image Size"
      ]
    },
    {
      "cell_type": "code",
      "execution_count": null,
      "metadata": {
        "id": "hmRraeyFEvY2"
      },
      "outputs": [],
      "source": [
        "IMAGE_SIZE=128"
      ]
    },
    {
      "cell_type": "markdown",
      "metadata": {
        "id": "Pf8SR1GJHNMI"
      },
      "source": [
        "## Dataset"
      ]
    },
    {
      "cell_type": "code",
      "execution_count": null,
      "metadata": {
        "id": "r3T7Fvc4qMGB"
      },
      "outputs": [],
      "source": [
        "import matplotlib.pyplot as plt\n",
        "import cv2 \n",
        "import glob \n",
        "import numpy as np\n",
        "X=[]\n",
        "y=[]\n",
        "images=sorted(glob.glob('/content/drive/MyDrive/Balls/Images/*'))\n",
        "masks=sorted(glob.glob('/content/drive/MyDrive/Balls/Masks/*'))\n",
        "\n",
        "for image in images:\n",
        "  image=cv2.imread(image,cv2.IMREAD_GRAYSCALE)\n",
        "  image=cv2.resize(image,(IMAGE_SIZE,IMAGE_SIZE))\n",
        "  image=image/255\n",
        "  X.append(image)\n",
        "\n",
        "for mask in masks:\n",
        "  mask=cv2.imread(mask,cv2.IMREAD_GRAYSCALE)\n",
        "  mask=cv2.resize(mask,(IMAGE_SIZE,IMAGE_SIZE))\n",
        "  mask=mask/255\n",
        "  mask=np.where(mask>0.5,1,0).astype(mask.dtype)\n",
        "  y.append(mask)"
      ]
    },
    {
      "cell_type": "code",
      "execution_count": null,
      "metadata": {
        "id": "xUZTMqyDOQsl"
      },
      "outputs": [],
      "source": [
        "X=np.array(X)\n",
        "y=np.array(y)"
      ]
    },
    {
      "cell_type": "code",
      "execution_count": null,
      "metadata": {
        "colab": {
          "base_uri": "https://localhost:8080/"
        },
        "id": "ASmlcXn5KhzX",
        "outputId": "8e7de835-b807-41d3-d023-9421ca75ed84"
      },
      "outputs": [
        {
          "output_type": "execute_result",
          "data": {
            "text/plain": [
              "(480, 128, 128)"
            ]
          },
          "metadata": {},
          "execution_count": 6
        }
      ],
      "source": [
        "len(images)\n",
        "X.shape"
      ]
    },
    {
      "cell_type": "markdown",
      "metadata": {
        "id": "fQbjklFD0R2_"
      },
      "source": [
        "## Visualizing Images and Masks"
      ]
    },
    {
      "cell_type": "code",
      "execution_count": null,
      "metadata": {
        "colab": {
          "base_uri": "https://localhost:8080/",
          "height": 203
        },
        "id": "QHNOR-XSzdf5",
        "outputId": "20875c82-000b-481e-8f08-51d16f838725"
      },
      "outputs": [
        {
          "output_type": "display_data",
          "data": {
            "text/plain": [
              "<Figure size 432x288 with 2 Axes>"
            ],
            "image/png": "[encoded data removed]"
          },
          "metadata": {
            "needs_background": "light"
          }
        }
      ],
      "source": [
        "index=456\n",
        "image=X[index]\n",
        "mask=y[index]\n",
        "plt.subplot(1, 2, 1)\n",
        "plt.imshow(image,cmap='gray')\n",
        "plt.subplot(1, 2, 2)\n",
        "plt.imshow(mask,cmap='gray')\n",
        "plt.show()"
      ]
    },
    {
      "cell_type": "markdown",
      "metadata": {
        "id": "ujV62CDqHR0R"
      },
      "source": [
        "## Model"
      ]
    },
    {
      "cell_type": "code",
      "execution_count": null,
      "metadata": {
        "id": "H2FJWYLtcKxE"
      },
      "outputs": [],
      "source": [
        "from tensorflow.keras.models import Sequential\n",
        "from tensorflow.keras.layers import Dense, Input,Conv2D, MaxPooling2D, Resizing,AveragePooling2D, Flatten, Dropout, BatchNormalization, InputLayer, Reshape\n",
        "model = Sequential()\n",
        "model.add(InputLayer(input_shape=(64, 64, 1)))\n",
        "model.add(Conv2D(64, 2, padding='same', activation=\"relu\"))\n",
        "\n",
        "model.add(Resizing(64, 64, interpolation='nearest'))\n",
        "\n",
        "# model.add(AveragePooling2D(2, padding='same'))\n",
        "# model.add(Conv2D(8, 3, padding='same', activation=\"relu\"))\n",
        "# model.add(AveragePooling2D(2, padding='same'))\n",
        "# model.add(Conv2D(4, 3, padding='same', activation=\"relu\"))\n",
        "# model.add(AveragePooling2D(2, padding='same'))\n",
        "# model.add(Conv2D(1, 1, padding='same', activation=\"relu\"))\n",
        "# model.add(Resizing(64, 64, interpolation='bilinear'))\n",
        "\n",
        "# model.add(Conv2D(16, 3, padding='same', activation=\"relu\"))\n",
        "# model.add(AveragePooling2D(2, padding='same'))\n",
        "# model.add(Conv2D(8, 3, padding='same', activation=\"relu\"))\n",
        "# model.add(AveragePooling2D(2, padding='same'))\n",
        "# model.add(Conv2D(4, 3, padding='same', activation=\"relu\"))\n",
        "# model.add(AveragePooling2D(2, padding='same'))\n",
        "# model.add(Conv2D(1, 1, padding='same', activation=\"relu\"))\n",
        "# model.add(Resizing(64, 64, interpolation='bilinear'))\n",
        "\n",
        "# model.add(Conv2D(16, 3, padding='same', activation=\"relu\"))\n",
        "# model.add(AveragePooling2D(2, padding='same'))\n",
        "# model.add(Conv2D(8, 3, padding='same', activation=\"relu\"))\n",
        "# model.add(AveragePooling2D(2, padding='same'))\n",
        "# model.add(Conv2D(4, 3, padding='same', activation=\"relu\"))\n",
        "# model.add(AveragePooling2D(2, padding='same'))\n",
        "# model.add(Conv2D(1, 1, padding='same', activation=\"relu\"))\n",
        "# model.add(Resizing(64, 64, interpolation='bilinear'))\n",
        "\n",
        "# model.add(Conv2D(16, 3, padding='same', activation=\"relu\"))\n",
        "# model.add(AveragePooling2D(2, padding='same'))\n",
        "# model.add(Conv2D(8, 3, padding='same', activation=\"relu\"))\n",
        "# model.add(AveragePooling2D(2, padding='same'))\n",
        "# model.add(Conv2D(4, 3, padding='same', activation=\"relu\"))\n",
        "# model.add(AveragePooling2D(2, padding='same'))\n",
        "# model.add(Conv2D(1, 1, padding='same', activation=\"relu\"))\n",
        "# model.add(Resizing(64, 64, interpolation='bilinear'))\n",
        "# model.add(Flatten())\n",
        "# model.add(Dense(64, activation=\"relu\"))\n",
        "# model.add(Dense(4096, activation=\"relu\"))\n",
        "model.summary()"
      ]
    },
    {
      "cell_type": "code",
      "execution_count": null,
      "metadata": {
        "id": "K0jugYvr6Fde"
      },
      "outputs": [],
      "source": [
        "from keras.models import Model\n",
        "from keras.layers import concatenate\n",
        "# image=Input(shape=(64, 64, 1))\n",
        "# conv1=Conv2D(64, 3, padding='same', activation=\"relu\")(image)\n",
        "# av1=AveragePooling2D(2, padding='same')(conv1)\n",
        "# conv2=Conv2D(32, 3, padding='same', activation=\"relu\")(av1)\n",
        "# resize=Resizing(64, 64, interpolation='bilinear')(conv2)\n",
        "# conv3=Conv2D(1, 1, padding='same', activation=\"relu\")(resize)\n",
        "# conc=concatenate([conv1, resize])\n",
        "# conv4=Conv2D(1, 1, padding='same', activation=\"relu\")(conc)\n",
        "# conv2=Conv2D(1, 1, padding='same', activation=\"relu\")(conv1)\n",
        "# conv3=Conv2D(1, 1, padding='same', activation=\"relu\")(conc)\n",
        "\n",
        "# resize=Resizing(64, 64, interpolation='bilinear')(conv2)\n",
        "# av1=AveragePooling2D(2, padding='same')(conv1)\n",
        "# conv2=Conv2D(16, 3, padding='same', activation=\"relu\")(av1)\n",
        "# av2=AveragePooling2D(2, padding='same')(conv2)\n",
        "# conv3=Conv2D(8, 3, padding='same', activation=\"relu\")(av2)\n",
        "# av3=AveragePooling2D(2, padding='same')(conv3)\n",
        "# conv4=Conv2D(1, 1, padding='same', activation=\"relu\")(av3)\n",
        "\n",
        "image=Input(shape=(IMAGE_SIZE, IMAGE_SIZE, 1))\n",
        "conv1=Conv2D(16, 4, padding='same', activation=\"relu\")(image)\n",
        "conv2=Conv2D(10, 4, padding='same', activation=\"relu\")(conv1)\n",
        "av1=AveragePooling2D(2, padding='same')(conv2)\n",
        "\n",
        "conv3=Conv2D(16, 4, padding='same', activation=\"relu\")(av1)\n",
        "conv4=Conv2D(10, 4, padding='same', activation=\"relu\")(conv3)\n",
        "av2=AveragePooling2D(2, padding='same')(conv4)\n",
        "\n",
        "conv5=Conv2D(16, 4, padding='same', activation=\"relu\")(av2)\n",
        "conv6=Conv2D(10, 4, padding='same', activation=\"relu\")(conv5)\n",
        "av3=AveragePooling2D(2, padding='same')(conv6)\n",
        "\n",
        "res_conv2=Resizing(IMAGE_SIZE, IMAGE_SIZE, interpolation='bilinear')(conv2)\n",
        "res_conv3=Resizing(IMAGE_SIZE, IMAGE_SIZE, interpolation='bilinear')(conv3)\n",
        "res_conv4=Resizing(IMAGE_SIZE, IMAGE_SIZE, interpolation='bilinear')(conv4)\n",
        "res_conv5=Resizing(IMAGE_SIZE, IMAGE_SIZE, interpolation='bilinear')(conv5)\n",
        "res_conv6=Resizing(IMAGE_SIZE, IMAGE_SIZE, interpolation='bilinear')(conv6)\n",
        "resize=Resizing(IMAGE_SIZE, IMAGE_SIZE, interpolation='bilinear')(av3)\n",
        "\n",
        "conc=concatenate([resize,conv1])\n",
        "conc=concatenate([conc,res_conv2])\n",
        "conc=concatenate([conc,res_conv3])\n",
        "conc=concatenate([conc,res_conv4])\n",
        "conc=concatenate([conc,res_conv5])\n",
        "conc=concatenate([conc,res_conv6])\n",
        "\n",
        "conv0=Conv2D(1, 1, padding='same', activation=\"relu\")(conc)\n",
        "model=Model(inputs=image, outputs=conv0)\n",
        "model.summary()\n",
        "# --------------------------------------------------------------------------------------------\n",
        "# --------------------------------------------------------------------------------------------\n",
        "# image=Input(shape=(64, 64, 1))\n",
        "# conv1=Conv2D(16, 4, padding='same')(image)\n",
        "# bn1=BatchNormalization()(conv1)\n",
        "# drop1=Dropout(0.15)(bn1)\n",
        "# act1=Activation(\"relu\")(drop1)\n",
        "# conv2=Conv2D(8, 4, padding='same')(act1)\n",
        "# bn2=BatchNormalization()(conv2)\n",
        "# drop2=Dropout(0.15)(bn2)\n",
        "# act2=Activation(\"relu\")(drop2)\n",
        "# av1=AveragePooling2D(2, padding='same')(act2)\n",
        "# conv3=Conv2D(16, 4, padding='same', activation=\"relu\")(av1)\n",
        "# bn3=BatchNormalization()(conv3)\n",
        "# drop3=Dropout(0.15)(bn3)\n",
        "# act3=Activation(\"relu\")(drop3)\n",
        "# conv4=Conv2D(8, 4, padding='same', activation=\"relu\")(act3)\n",
        "# bn4=BatchNormalization()(conv4)\n",
        "# drop4=Dropout(0.15)(bn4)\n",
        "# act4=Activation(\"relu\")(drop4)\n",
        "# av2=AveragePooling2D(2, padding='same')(act4)\n",
        "# conv5=Conv2D(16, 4, padding='same', activation=\"relu\")(av2)\n",
        "# bn5=BatchNormalization()(conv5)\n",
        "# drop5=Dropout(0.15)(bn5)\n",
        "# act5=Activation(\"relu\")(drop5)\n",
        "# conv6=Conv2D(8, 4, padding='same', activation=\"relu\")(act5)\n",
        "# bn6=BatchNormalization()(conv6)\n",
        "# drop6=Dropout(0.15)(bn6)\n",
        "# act6=Activation(\"relu\")(drop6)\n",
        "# av3=AveragePooling2D(2, padding='same')(act6)\n",
        "# resize=Resizing(64, 64, interpolation='bilinear')(av3)\n",
        "# conc=concatenate([conv1,resize])\n",
        "# conv5=Conv2D(1, 1, padding='same', activation=\"relu\")(conc)\n",
        "# model=Model(inputs=image, outputs=conv5)\n",
        "# model.summary()\n",
        "# --------------------------------------------------------------------------------------------\n",
        "# --------------------------------------------------------------------------------------------"
      ]
    },
    {
      "cell_type": "code",
      "execution_count": null,
      "metadata": {
        "id": "xA3WDJHSUWrc"
      },
      "outputs": [],
      "source": [
        "from keras.utils.vis_utils import plot_model\n",
        "plot_model(model, to_file='model.png', show_shapes=True, show_layer_names=True)"
      ]
    },
    {
      "cell_type": "code",
      "execution_count": null,
      "metadata": {
        "id": "yU6jYgCdUteb"
      },
      "outputs": [],
      "source": [
        "%load_ext tensorboard"
      ]
    },
    {
      "cell_type": "code",
      "execution_count": null,
      "metadata": {
        "colab": {
          "base_uri": "https://localhost:8080/"
        },
        "id": "K-89x6W6o_ZT",
        "outputId": "c8e2f44e-d548-40b4-bb2d-34d3cf352d74"
      },
      "outputs": [
        {
          "output_type": "stream",
          "name": "stdout",
          "text": [
            "Epoch 1/200\n",
            "32/32 [==============================] - 13s 25ms/step - loss: 0.1378 - mean_absolute_error: 0.2491\n",
            "Epoch 2/200\n",
            "32/32 [==============================] - 1s 20ms/step - loss: 0.1280 - mean_absolute_error: 0.2537\n",
            "Epoch 3/200\n",
            "32/32 [==============================] - 1s 20ms/step - loss: 0.1163 - mean_absolute_error: 0.2343\n",
            "Epoch 4/200\n",
            "32/32 [==============================] - 1s 20ms/step - loss: 0.1024 - mean_absolute_error: 0.1998\n",
            "Epoch 5/200\n",
            "32/32 [==============================] - 1s 20ms/step - loss: 0.0949 - mean_absolute_error: 0.1835\n",
            "Epoch 6/200\n",
            "32/32 [==============================] - 1s 21ms/step - loss: 0.0923 - mean_absolute_error: 0.1789\n",
            "Epoch 7/200\n",
            "32/32 [==============================] - 1s 20ms/step - loss: 0.0841 - mean_absolute_error: 0.1668\n",
            "Epoch 8/200\n",
            "32/32 [==============================] - 1s 20ms/step - loss: 0.0779 - mean_absolute_error: 0.1568\n",
            "Epoch 9/200\n",
            "32/32 [==============================] - 1s 20ms/step - loss: 0.0753 - mean_absolute_error: 0.1547\n",
            "Epoch 10/200\n",
            "32/32 [==============================] - 1s 21ms/step - loss: 0.0732 - mean_absolute_error: 0.1493\n",
            "Epoch 11/200\n",
            "32/32 [==============================] - 1s 20ms/step - loss: 0.0694 - mean_absolute_error: 0.1403\n",
            "Epoch 12/200\n",
            "32/32 [==============================] - 1s 20ms/step - loss: 0.0627 - mean_absolute_error: 0.1375\n",
            "Epoch 13/200\n",
            "32/32 [==============================] - 1s 20ms/step - loss: 0.0608 - mean_absolute_error: 0.1297\n",
            "Epoch 14/200\n",
            "32/32 [==============================] - 1s 20ms/step - loss: 0.0591 - mean_absolute_error: 0.1226\n",
            "Epoch 15/200\n",
            "32/32 [==============================] - 1s 20ms/step - loss: 0.0518 - mean_absolute_error: 0.1127\n",
            "Epoch 16/200\n",
            "32/32 [==============================] - 1s 20ms/step - loss: 0.0488 - mean_absolute_error: 0.1030\n",
            "Epoch 17/200\n",
            "32/32 [==============================] - 1s 21ms/step - loss: 0.0485 - mean_absolute_error: 0.1005\n",
            "Epoch 18/200\n",
            "32/32 [==============================] - 1s 21ms/step - loss: 0.0494 - mean_absolute_error: 0.1018\n",
            "Epoch 19/200\n",
            "32/32 [==============================] - 1s 21ms/step - loss: 0.0438 - mean_absolute_error: 0.0931\n",
            "Epoch 20/200\n",
            "32/32 [==============================] - 1s 22ms/step - loss: 0.0437 - mean_absolute_error: 0.0902\n",
            "Epoch 21/200\n",
            "32/32 [==============================] - 1s 21ms/step - loss: 0.0461 - mean_absolute_error: 0.0918\n",
            "Epoch 22/200\n",
            "32/32 [==============================] - 1s 20ms/step - loss: 0.0407 - mean_absolute_error: 0.0846\n",
            "Epoch 23/200\n",
            "32/32 [==============================] - 1s 21ms/step - loss: 0.0431 - mean_absolute_error: 0.0876\n",
            "Epoch 24/200\n",
            "32/32 [==============================] - 1s 20ms/step - loss: 0.0397 - mean_absolute_error: 0.0828\n",
            "Epoch 25/200\n",
            "32/32 [==============================] - 1s 20ms/step - loss: 0.0373 - mean_absolute_error: 0.0770\n",
            "Epoch 26/200\n",
            "32/32 [==============================] - 1s 21ms/step - loss: 0.0362 - mean_absolute_error: 0.0768\n",
            "Epoch 27/200\n",
            "32/32 [==============================] - 1s 21ms/step - loss: 0.0374 - mean_absolute_error: 0.0774\n",
            "Epoch 28/200\n",
            "32/32 [==============================] - 1s 20ms/step - loss: 0.0378 - mean_absolute_error: 0.0770\n",
            "Epoch 29/200\n",
            "32/32 [==============================] - 1s 21ms/step - loss: 0.0338 - mean_absolute_error: 0.0712\n",
            "Epoch 30/200\n",
            "32/32 [==============================] - 1s 20ms/step - loss: 0.0341 - mean_absolute_error: 0.0703\n",
            "Epoch 31/200\n",
            "32/32 [==============================] - 1s 21ms/step - loss: 0.0354 - mean_absolute_error: 0.0725\n",
            "Epoch 32/200\n",
            "32/32 [==============================] - 1s 20ms/step - loss: 0.0345 - mean_absolute_error: 0.0707\n",
            "Epoch 33/200\n",
            "32/32 [==============================] - 1s 21ms/step - loss: 0.0331 - mean_absolute_error: 0.0683\n",
            "Epoch 34/200\n",
            "32/32 [==============================] - 1s 21ms/step - loss: 0.0315 - mean_absolute_error: 0.0646\n",
            "Epoch 35/200\n",
            "32/32 [==============================] - 1s 20ms/step - loss: 0.0306 - mean_absolute_error: 0.0649\n",
            "Epoch 36/200\n",
            "32/32 [==============================] - 1s 21ms/step - loss: 0.0289 - mean_absolute_error: 0.0607\n",
            "Epoch 37/200\n",
            "32/32 [==============================] - 1s 21ms/step - loss: 0.0284 - mean_absolute_error: 0.0599\n",
            "Epoch 38/200\n",
            "32/32 [==============================] - 1s 21ms/step - loss: 0.0282 - mean_absolute_error: 0.0598\n",
            "Epoch 39/200\n",
            "32/32 [==============================] - 1s 21ms/step - loss: 0.0271 - mean_absolute_error: 0.0572\n",
            "Epoch 40/200\n",
            "32/32 [==============================] - 1s 21ms/step - loss: 0.0266 - mean_absolute_error: 0.0561\n",
            "Epoch 41/200\n",
            "32/32 [==============================] - 1s 22ms/step - loss: 0.0272 - mean_absolute_error: 0.0577\n",
            "Epoch 42/200\n",
            "32/32 [==============================] - 1s 21ms/step - loss: 0.0265 - mean_absolute_error: 0.0564\n",
            "Epoch 43/200\n",
            "32/32 [==============================] - 1s 21ms/step - loss: 0.0251 - mean_absolute_error: 0.0540\n",
            "Epoch 44/200\n",
            "32/32 [==============================] - 1s 21ms/step - loss: 0.0265 - mean_absolute_error: 0.0567\n",
            "Epoch 45/200\n",
            "32/32 [==============================] - 1s 20ms/step - loss: 0.0249 - mean_absolute_error: 0.0534\n",
            "Epoch 46/200\n",
            "32/32 [==============================] - 1s 21ms/step - loss: 0.0241 - mean_absolute_error: 0.0521\n",
            "Epoch 47/200\n",
            "32/32 [==============================] - 1s 21ms/step - loss: 0.0245 - mean_absolute_error: 0.0513\n",
            "Epoch 48/200\n",
            "32/32 [==============================] - 1s 20ms/step - loss: 0.0240 - mean_absolute_error: 0.0509\n",
            "Epoch 49/200\n",
            "32/32 [==============================] - 1s 21ms/step - loss: 0.0259 - mean_absolute_error: 0.0539\n",
            "Epoch 50/200\n",
            "32/32 [==============================] - 1s 21ms/step - loss: 0.0236 - mean_absolute_error: 0.0508\n",
            "Epoch 51/200\n",
            "32/32 [==============================] - 1s 21ms/step - loss: 0.0226 - mean_absolute_error: 0.0486\n",
            "Epoch 52/200\n",
            "32/32 [==============================] - 1s 21ms/step - loss: 0.0220 - mean_absolute_error: 0.0478\n",
            "Epoch 53/200\n",
            "32/32 [==============================] - 1s 21ms/step - loss: 0.0221 - mean_absolute_error: 0.0483\n",
            "Epoch 54/200\n",
            "32/32 [==============================] - 1s 20ms/step - loss: 0.0232 - mean_absolute_error: 0.0494\n",
            "Epoch 55/200\n",
            "32/32 [==============================] - 1s 21ms/step - loss: 0.0206 - mean_absolute_error: 0.0453\n",
            "Epoch 56/200\n",
            "32/32 [==============================] - 1s 21ms/step - loss: 0.0224 - mean_absolute_error: 0.0475\n",
            "Epoch 57/200\n",
            "32/32 [==============================] - 1s 21ms/step - loss: 0.0238 - mean_absolute_error: 0.0498\n",
            "Epoch 58/200\n",
            "32/32 [==============================] - 1s 22ms/step - loss: 0.0224 - mean_absolute_error: 0.0481\n",
            "Epoch 59/200\n",
            "32/32 [==============================] - 1s 21ms/step - loss: 0.0211 - mean_absolute_error: 0.0458\n",
            "Epoch 60/200\n",
            "32/32 [==============================] - 1s 22ms/step - loss: 0.0196 - mean_absolute_error: 0.0428\n",
            "Epoch 61/200\n",
            "32/32 [==============================] - 1s 21ms/step - loss: 0.0197 - mean_absolute_error: 0.0428\n",
            "Epoch 62/200\n",
            "32/32 [==============================] - 1s 22ms/step - loss: 0.0192 - mean_absolute_error: 0.0427\n",
            "Epoch 63/200\n",
            "32/32 [==============================] - 1s 21ms/step - loss: 0.0203 - mean_absolute_error: 0.0435\n",
            "Epoch 64/200\n",
            "32/32 [==============================] - 1s 21ms/step - loss: 0.0205 - mean_absolute_error: 0.0442\n",
            "Epoch 65/200\n",
            "32/32 [==============================] - 1s 21ms/step - loss: 0.0221 - mean_absolute_error: 0.0475\n",
            "Epoch 66/200\n",
            "32/32 [==============================] - 1s 21ms/step - loss: 0.0222 - mean_absolute_error: 0.0465\n",
            "Epoch 67/200\n",
            "32/32 [==============================] - 1s 21ms/step - loss: 0.0201 - mean_absolute_error: 0.0438\n",
            "Epoch 68/200\n",
            "32/32 [==============================] - 1s 21ms/step - loss: 0.0193 - mean_absolute_error: 0.0427\n",
            "Epoch 69/200\n",
            "32/32 [==============================] - 1s 21ms/step - loss: 0.0190 - mean_absolute_error: 0.0424\n",
            "Epoch 70/200\n",
            "32/32 [==============================] - 1s 21ms/step - loss: 0.0177 - mean_absolute_error: 0.0399\n",
            "Epoch 71/200\n",
            "32/32 [==============================] - 1s 21ms/step - loss: 0.0173 - mean_absolute_error: 0.0394\n",
            "Epoch 72/200\n",
            "32/32 [==============================] - 1s 21ms/step - loss: 0.0173 - mean_absolute_error: 0.0389\n",
            "Epoch 73/200\n",
            "32/32 [==============================] - 1s 21ms/step - loss: 0.0175 - mean_absolute_error: 0.0395\n",
            "Epoch 74/200\n",
            "32/32 [==============================] - 1s 21ms/step - loss: 0.0175 - mean_absolute_error: 0.0396\n",
            "Epoch 75/200\n",
            "32/32 [==============================] - 1s 21ms/step - loss: 0.0171 - mean_absolute_error: 0.0383\n",
            "Epoch 76/200\n",
            "32/32 [==============================] - 1s 21ms/step - loss: 0.0180 - mean_absolute_error: 0.0401\n",
            "Epoch 77/200\n",
            "32/32 [==============================] - 1s 21ms/step - loss: 0.0174 - mean_absolute_error: 0.0392\n",
            "Epoch 78/200\n",
            "32/32 [==============================] - 1s 21ms/step - loss: 0.0184 - mean_absolute_error: 0.0402\n",
            "Epoch 79/200\n",
            "32/32 [==============================] - 1s 22ms/step - loss: 0.0187 - mean_absolute_error: 0.0410\n",
            "Epoch 80/200\n",
            "32/32 [==============================] - 1s 22ms/step - loss: 0.0181 - mean_absolute_error: 0.0402\n",
            "Epoch 81/200\n",
            "32/32 [==============================] - 1s 21ms/step - loss: 0.0170 - mean_absolute_error: 0.0380\n",
            "Epoch 82/200\n",
            "32/32 [==============================] - 1s 22ms/step - loss: 0.0158 - mean_absolute_error: 0.0361\n",
            "Epoch 83/200\n",
            "32/32 [==============================] - 1s 21ms/step - loss: 0.0163 - mean_absolute_error: 0.0374\n",
            "Epoch 84/200\n",
            "32/32 [==============================] - 1s 21ms/step - loss: 0.0167 - mean_absolute_error: 0.0369\n",
            "Epoch 85/200\n",
            "32/32 [==============================] - 1s 21ms/step - loss: 0.0162 - mean_absolute_error: 0.0367\n",
            "Epoch 86/200\n",
            "32/32 [==============================] - 1s 21ms/step - loss: 0.0163 - mean_absolute_error: 0.0373\n",
            "Epoch 87/200\n",
            "32/32 [==============================] - 1s 21ms/step - loss: 0.0185 - mean_absolute_error: 0.0395\n",
            "Epoch 88/200\n",
            "32/32 [==============================] - 1s 21ms/step - loss: 0.0164 - mean_absolute_error: 0.0373\n",
            "Epoch 89/200\n",
            "32/32 [==============================] - 1s 21ms/step - loss: 0.0186 - mean_absolute_error: 0.0407\n",
            "Epoch 90/200\n",
            "32/32 [==============================] - 1s 21ms/step - loss: 0.0145 - mean_absolute_error: 0.0341\n",
            "Epoch 91/200\n",
            "32/32 [==============================] - 1s 21ms/step - loss: 0.0147 - mean_absolute_error: 0.0338\n",
            "Epoch 92/200\n",
            "32/32 [==============================] - 1s 21ms/step - loss: 0.0161 - mean_absolute_error: 0.0365\n",
            "Epoch 93/200\n",
            "32/32 [==============================] - 1s 21ms/step - loss: 0.0164 - mean_absolute_error: 0.0364\n",
            "Epoch 94/200\n",
            "32/32 [==============================] - 1s 21ms/step - loss: 0.0165 - mean_absolute_error: 0.0367\n",
            "Epoch 95/200\n",
            "32/32 [==============================] - 1s 21ms/step - loss: 0.0152 - mean_absolute_error: 0.0343\n",
            "Epoch 96/200\n",
            "32/32 [==============================] - 1s 21ms/step - loss: 0.0143 - mean_absolute_error: 0.0337\n",
            "Epoch 97/200\n",
            "32/32 [==============================] - 1s 21ms/step - loss: 0.0137 - mean_absolute_error: 0.0321\n",
            "Epoch 98/200\n",
            "32/32 [==============================] - 1s 22ms/step - loss: 0.0134 - mean_absolute_error: 0.0322\n",
            "Epoch 99/200\n",
            "32/32 [==============================] - 1s 22ms/step - loss: 0.0151 - mean_absolute_error: 0.0339\n",
            "Epoch 100/200\n",
            "32/32 [==============================] - 1s 22ms/step - loss: 0.0172 - mean_absolute_error: 0.0378\n",
            "Epoch 101/200\n",
            "32/32 [==============================] - 1s 22ms/step - loss: 0.0149 - mean_absolute_error: 0.0344\n",
            "Epoch 102/200\n",
            "32/32 [==============================] - 1s 22ms/step - loss: 0.0135 - mean_absolute_error: 0.0314\n",
            "Epoch 103/200\n",
            "32/32 [==============================] - 1s 21ms/step - loss: 0.0134 - mean_absolute_error: 0.0318\n",
            "Epoch 104/200\n",
            "32/32 [==============================] - 1s 21ms/step - loss: 0.0132 - mean_absolute_error: 0.0308\n",
            "Epoch 105/200\n",
            "32/32 [==============================] - 1s 21ms/step - loss: 0.0126 - mean_absolute_error: 0.0301\n",
            "Epoch 106/200\n",
            "32/32 [==============================] - 1s 21ms/step - loss: 0.0129 - mean_absolute_error: 0.0305\n",
            "Epoch 107/200\n",
            "32/32 [==============================] - 1s 21ms/step - loss: 0.0138 - mean_absolute_error: 0.0321\n",
            "Epoch 108/200\n",
            "32/32 [==============================] - 1s 21ms/step - loss: 0.0143 - mean_absolute_error: 0.0328\n",
            "Epoch 109/200\n",
            "32/32 [==============================] - 1s 21ms/step - loss: 0.0122 - mean_absolute_error: 0.0291\n",
            "Epoch 110/200\n",
            "32/32 [==============================] - 1s 21ms/step - loss: 0.0118 - mean_absolute_error: 0.0286\n",
            "Epoch 111/200\n",
            "32/32 [==============================] - 1s 21ms/step - loss: 0.0131 - mean_absolute_error: 0.0307\n",
            "Epoch 112/200\n",
            "32/32 [==============================] - 1s 21ms/step - loss: 0.0120 - mean_absolute_error: 0.0289\n",
            "Epoch 113/200\n",
            "32/32 [==============================] - 1s 21ms/step - loss: 0.0121 - mean_absolute_error: 0.0294\n",
            "Epoch 114/200\n",
            "32/32 [==============================] - 1s 21ms/step - loss: 0.0118 - mean_absolute_error: 0.0288\n",
            "Epoch 115/200\n",
            "32/32 [==============================] - 1s 21ms/step - loss: 0.0114 - mean_absolute_error: 0.0280\n",
            "Epoch 116/200\n",
            "32/32 [==============================] - 1s 21ms/step - loss: 0.0120 - mean_absolute_error: 0.0289\n",
            "Epoch 117/200\n",
            "32/32 [==============================] - 1s 21ms/step - loss: 0.0115 - mean_absolute_error: 0.0279\n",
            "Epoch 118/200\n",
            "32/32 [==============================] - 1s 22ms/step - loss: 0.0128 - mean_absolute_error: 0.0299\n",
            "Epoch 119/200\n",
            "32/32 [==============================] - 1s 22ms/step - loss: 0.0122 - mean_absolute_error: 0.0293\n",
            "Epoch 120/200\n",
            "32/32 [==============================] - 1s 21ms/step - loss: 0.0115 - mean_absolute_error: 0.0279\n",
            "Epoch 121/200\n",
            "32/32 [==============================] - 1s 22ms/step - loss: 0.0105 - mean_absolute_error: 0.0263\n",
            "Epoch 122/200\n",
            "32/32 [==============================] - 1s 22ms/step - loss: 0.0108 - mean_absolute_error: 0.0269\n",
            "Epoch 123/200\n",
            "32/32 [==============================] - 1s 21ms/step - loss: 0.0113 - mean_absolute_error: 0.0275\n",
            "Epoch 124/200\n",
            "32/32 [==============================] - 1s 21ms/step - loss: 0.0112 - mean_absolute_error: 0.0278\n",
            "Epoch 125/200\n",
            "32/32 [==============================] - 1s 21ms/step - loss: 0.0112 - mean_absolute_error: 0.0272\n",
            "Epoch 126/200\n",
            "32/32 [==============================] - 1s 21ms/step - loss: 0.0107 - mean_absolute_error: 0.0269\n",
            "Epoch 127/200\n",
            "32/32 [==============================] - 1s 21ms/step - loss: 0.0111 - mean_absolute_error: 0.0271\n",
            "Epoch 128/200\n",
            "32/32 [==============================] - 1s 21ms/step - loss: 0.0109 - mean_absolute_error: 0.0263\n",
            "Epoch 129/200\n",
            "32/32 [==============================] - 1s 21ms/step - loss: 0.0127 - mean_absolute_error: 0.0292\n",
            "Epoch 130/200\n",
            "32/32 [==============================] - 1s 21ms/step - loss: 0.0107 - mean_absolute_error: 0.0266\n",
            "Epoch 131/200\n",
            "32/32 [==============================] - 1s 21ms/step - loss: 0.0110 - mean_absolute_error: 0.0271\n",
            "Epoch 132/200\n",
            "32/32 [==============================] - 1s 21ms/step - loss: 0.0102 - mean_absolute_error: 0.0257\n",
            "Epoch 133/200\n",
            "32/32 [==============================] - 1s 21ms/step - loss: 0.0100 - mean_absolute_error: 0.0252\n",
            "Epoch 134/200\n",
            "32/32 [==============================] - 1s 21ms/step - loss: 0.0103 - mean_absolute_error: 0.0255\n",
            "Epoch 135/200\n",
            "32/32 [==============================] - 1s 21ms/step - loss: 0.0120 - mean_absolute_error: 0.0282\n",
            "Epoch 136/200\n",
            "32/32 [==============================] - 1s 21ms/step - loss: 0.0121 - mean_absolute_error: 0.0292\n",
            "Epoch 137/200\n",
            "32/32 [==============================] - 1s 21ms/step - loss: 0.0107 - mean_absolute_error: 0.0261\n",
            "Epoch 138/200\n",
            "32/32 [==============================] - 1s 22ms/step - loss: 0.0099 - mean_absolute_error: 0.0250\n",
            "Epoch 139/200\n",
            "32/32 [==============================] - 1s 22ms/step - loss: 0.0105 - mean_absolute_error: 0.0258\n",
            "Epoch 140/200\n",
            "32/32 [==============================] - 1s 22ms/step - loss: 0.0107 - mean_absolute_error: 0.0260\n",
            "Epoch 141/200\n",
            "32/32 [==============================] - 1s 22ms/step - loss: 0.0105 - mean_absolute_error: 0.0261\n",
            "Epoch 142/200\n",
            "32/32 [==============================] - 1s 22ms/step - loss: 0.0097 - mean_absolute_error: 0.0241\n",
            "Epoch 143/200\n",
            "32/32 [==============================] - 1s 21ms/step - loss: 0.0105 - mean_absolute_error: 0.0260\n",
            "Epoch 144/200\n",
            "32/32 [==============================] - 1s 21ms/step - loss: 0.0108 - mean_absolute_error: 0.0263\n",
            "Epoch 145/200\n",
            "32/32 [==============================] - 1s 21ms/step - loss: 0.0097 - mean_absolute_error: 0.0245\n",
            "Epoch 146/200\n",
            "32/32 [==============================] - 1s 21ms/step - loss: 0.0095 - mean_absolute_error: 0.0243\n",
            "Epoch 147/200\n",
            "32/32 [==============================] - 1s 21ms/step - loss: 0.0095 - mean_absolute_error: 0.0239\n",
            "Epoch 148/200\n",
            "32/32 [==============================] - 1s 21ms/step - loss: 0.0092 - mean_absolute_error: 0.0236\n",
            "Epoch 149/200\n",
            "32/32 [==============================] - 1s 21ms/step - loss: 0.0095 - mean_absolute_error: 0.0243\n",
            "Epoch 150/200\n",
            "32/32 [==============================] - 1s 21ms/step - loss: 0.0099 - mean_absolute_error: 0.0245\n",
            "Epoch 151/200\n",
            "32/32 [==============================] - 1s 21ms/step - loss: 0.0109 - mean_absolute_error: 0.0266\n",
            "Epoch 152/200\n",
            "32/32 [==============================] - 1s 21ms/step - loss: 0.0098 - mean_absolute_error: 0.0252\n",
            "Epoch 153/200\n",
            "32/32 [==============================] - 1s 21ms/step - loss: 0.0091 - mean_absolute_error: 0.0234\n",
            "Epoch 154/200\n",
            "32/32 [==============================] - 1s 21ms/step - loss: 0.0091 - mean_absolute_error: 0.0232\n",
            "Epoch 155/200\n",
            "32/32 [==============================] - 1s 21ms/step - loss: 0.0087 - mean_absolute_error: 0.0226\n",
            "Epoch 156/200\n",
            "32/32 [==============================] - 1s 21ms/step - loss: 0.0087 - mean_absolute_error: 0.0225\n",
            "Epoch 157/200\n",
            "32/32 [==============================] - 1s 21ms/step - loss: 0.0088 - mean_absolute_error: 0.0229\n",
            "Epoch 158/200\n",
            "32/32 [==============================] - 1s 21ms/step - loss: 0.0085 - mean_absolute_error: 0.0224\n",
            "Epoch 159/200\n",
            "32/32 [==============================] - 1s 21ms/step - loss: 0.0088 - mean_absolute_error: 0.0227\n",
            "Epoch 160/200\n",
            "32/32 [==============================] - 1s 21ms/step - loss: 0.0104 - mean_absolute_error: 0.0257\n",
            "Epoch 161/200\n",
            "32/32 [==============================] - 1s 21ms/step - loss: 0.0099 - mean_absolute_error: 0.0245\n",
            "Epoch 162/200\n",
            "32/32 [==============================] - 1s 22ms/step - loss: 0.0089 - mean_absolute_error: 0.0226\n",
            "Epoch 163/200\n",
            "32/32 [==============================] - 1s 21ms/step - loss: 0.0086 - mean_absolute_error: 0.0223\n",
            "Epoch 164/200\n",
            "32/32 [==============================] - 1s 21ms/step - loss: 0.0082 - mean_absolute_error: 0.0219\n",
            "Epoch 165/200\n",
            "32/32 [==============================] - 1s 21ms/step - loss: 0.0084 - mean_absolute_error: 0.0217\n",
            "Epoch 166/200\n",
            "32/32 [==============================] - 1s 21ms/step - loss: 0.0088 - mean_absolute_error: 0.0228\n",
            "Epoch 167/200\n",
            "32/32 [==============================] - 1s 21ms/step - loss: 0.0083 - mean_absolute_error: 0.0218\n",
            "Epoch 168/200\n",
            "32/32 [==============================] - 1s 21ms/step - loss: 0.0085 - mean_absolute_error: 0.0220\n",
            "Epoch 169/200\n",
            "32/32 [==============================] - 1s 21ms/step - loss: 0.0095 - mean_absolute_error: 0.0238\n",
            "Epoch 170/200\n",
            "32/32 [==============================] - 1s 21ms/step - loss: 0.0087 - mean_absolute_error: 0.0225\n",
            "Epoch 171/200\n",
            "32/32 [==============================] - 1s 21ms/step - loss: 0.0082 - mean_absolute_error: 0.0220\n",
            "Epoch 172/200\n",
            "32/32 [==============================] - 1s 21ms/step - loss: 0.0085 - mean_absolute_error: 0.0217\n",
            "Epoch 173/200\n",
            "32/32 [==============================] - 1s 21ms/step - loss: 0.0085 - mean_absolute_error: 0.0217\n",
            "Epoch 174/200\n",
            "32/32 [==============================] - 1s 21ms/step - loss: 0.0100 - mean_absolute_error: 0.0244\n",
            "Epoch 175/200\n",
            "32/32 [==============================] - 1s 21ms/step - loss: 0.0106 - mean_absolute_error: 0.0253\n",
            "Epoch 176/200\n",
            "32/32 [==============================] - 1s 21ms/step - loss: 0.0087 - mean_absolute_error: 0.0221\n",
            "Epoch 177/200\n",
            "32/32 [==============================] - 1s 21ms/step - loss: 0.0085 - mean_absolute_error: 0.0221\n",
            "Epoch 178/200\n",
            "32/32 [==============================] - 1s 21ms/step - loss: 0.0092 - mean_absolute_error: 0.0229\n",
            "Epoch 179/200\n",
            "32/32 [==============================] - 1s 22ms/step - loss: 0.0092 - mean_absolute_error: 0.0233\n",
            "Epoch 180/200\n",
            "32/32 [==============================] - 1s 22ms/step - loss: 0.0081 - mean_absolute_error: 0.0222\n",
            "Epoch 181/200\n",
            "32/32 [==============================] - 1s 22ms/step - loss: 0.0084 - mean_absolute_error: 0.0219\n",
            "Epoch 182/200\n",
            "32/32 [==============================] - 1s 21ms/step - loss: 0.0079 - mean_absolute_error: 0.0211\n",
            "Epoch 183/200\n",
            "32/32 [==============================] - 1s 21ms/step - loss: 0.0076 - mean_absolute_error: 0.0203\n",
            "Epoch 184/200\n",
            "32/32 [==============================] - 1s 21ms/step - loss: 0.0076 - mean_absolute_error: 0.0203\n",
            "Epoch 185/200\n",
            "32/32 [==============================] - 1s 21ms/step - loss: 0.0073 - mean_absolute_error: 0.0198\n",
            "Epoch 186/200\n",
            "32/32 [==============================] - 1s 21ms/step - loss: 0.0072 - mean_absolute_error: 0.0195\n",
            "Epoch 187/200\n",
            "32/32 [==============================] - 1s 21ms/step - loss: 0.0072 - mean_absolute_error: 0.0195\n",
            "Epoch 188/200\n",
            "32/32 [==============================] - 1s 21ms/step - loss: 0.0090 - mean_absolute_error: 0.0223\n",
            "Epoch 189/200\n",
            "32/32 [==============================] - 1s 21ms/step - loss: 0.0086 - mean_absolute_error: 0.0218\n",
            "Epoch 190/200\n",
            "32/32 [==============================] - 1s 21ms/step - loss: 0.0090 - mean_absolute_error: 0.0229\n",
            "Epoch 191/200\n",
            "32/32 [==============================] - 1s 21ms/step - loss: 0.0094 - mean_absolute_error: 0.0236\n",
            "Epoch 192/200\n",
            "32/32 [==============================] - 1s 21ms/step - loss: 0.0080 - mean_absolute_error: 0.0211\n",
            "Epoch 193/200\n",
            "32/32 [==============================] - 1s 21ms/step - loss: 0.0073 - mean_absolute_error: 0.0197\n",
            "Epoch 194/200\n",
            "32/32 [==============================] - 1s 22ms/step - loss: 0.0075 - mean_absolute_error: 0.0202\n",
            "Epoch 195/200\n",
            "32/32 [==============================] - 1s 22ms/step - loss: 0.0072 - mean_absolute_error: 0.0196\n",
            "Epoch 196/200\n",
            "32/32 [==============================] - 1s 22ms/step - loss: 0.0070 - mean_absolute_error: 0.0190\n",
            "Epoch 197/200\n",
            "32/32 [==============================] - 1s 22ms/step - loss: 0.0081 - mean_absolute_error: 0.0209\n",
            "Epoch 198/200\n",
            "32/32 [==============================] - 1s 22ms/step - loss: 0.0195 - mean_absolute_error: 0.0366\n",
            "Epoch 199/200\n",
            "32/32 [==============================] - 1s 23ms/step - loss: 0.0178 - mean_absolute_error: 0.0359\n",
            "Epoch 200/200\n",
            "32/32 [==============================] - 1s 22ms/step - loss: 0.0118 - mean_absolute_error: 0.0282\n"
          ]
        },
        {
          "output_type": "execute_result",
          "data": {
            "text/plain": [
              "<keras.callbacks.History at 0x7f4b0c03e970>"
            ]
          },
          "metadata": {},
          "execution_count": 13
        }
      ],
      "source": [
        "import tensorflow as tf\n",
        "model.compile(loss=\"mse\", \n",
        "              optimizer=tf.keras.optimizers.experimental.Adam(learning_rate=1e-3),\n",
        "              metrics='mean_absolute_error')\n",
        "model.fit(X, \n",
        "          y, \n",
        "          steps_per_epoch=32, \n",
        "          epochs=200, \n",
        "          verbose=1,\n",
        "          callbacks=tf.keras.callbacks.TensorBoard(log_dir='/content/log_dir'))"
      ]
    },
    {
      "cell_type": "markdown",
      "metadata": {
        "id": "8s3PHYVnHXRt"
      },
      "source": [
        "## Prediction"
      ]
    },
    {
      "cell_type": "code",
      "execution_count": null,
      "metadata": {
        "colab": {
          "base_uri": "https://localhost:8080/",
          "height": 167
        },
        "id": "GEUg39Np1vzY",
        "outputId": "5e5bccf7-a916-42fe-cf7c-d86e371780e0"
      },
      "outputs": [
        {
          "output_type": "stream",
          "name": "stdout",
          "text": [
            "1/1 [==============================] - 0s 23ms/step\n"
          ]
        },
        {
          "output_type": "display_data",
          "data": {
            "text/plain": [
              "<Figure size 432x288 with 3 Axes>"
            ],
            "image/png": "[encoded data removed]"
          },
          "metadata": {
            "needs_background": "light"
          }
        }
      ],
      "source": [
        "# Test Image\n",
        "# X=np.squeeze(X,-1)\n",
        "index=456\n",
        "test=X[index]\n",
        "actual=y[index]\n",
        "# file='/content/download.jpg'\n",
        "# test=cv2.imread(file,cv2.IMREAD_GRAYSCALE)\n",
        "# test=cv2.resize(test,(IMAGE_SIZE,IMAGE_SIZE))\n",
        "# test=np.array(test)\n",
        "image=test\n",
        "\n",
        "# Prediction\n",
        "prediction=model.predict(test.reshape(-1,IMAGE_SIZE,IMAGE_SIZE,1))[0]\n",
        "prediction=np.where(prediction>0.3,1,0).astype(prediction.dtype)\n",
        "\n",
        "#Subplots \n",
        "plt.subplot(1, 3, 1)\n",
        "plt.imshow(image,cmap='gray')\n",
        "plt.subplot(1, 3, 2)\n",
        "plt.imshow(actual,cmap='gray')\n",
        "plt.subplot(1, 3, 3)\n",
        "plt.imshow(prediction,cmap='gray')\n",
        "plt.show()\n",
        "# test.reshape(-1,128,128,1)"
      ]
    },
    {
      "cell_type": "markdown",
      "metadata": {
        "id": "U5w7jNkVIAEs"
      },
      "source": [
        "## Prediction on Random Image"
      ]
    },
    {
      "cell_type": "code",
      "execution_count": null,
      "metadata": {
        "id": "0M1uTAoqY31X"
      },
      "outputs": [],
      "source": [
        "# test_loss, test_acc = model.evaluate(x=test_images, y=test_labels, verbose=1)\n",
        "# print('Accuracy = %f' % test_acc)"
      ]
    },
    {
      "cell_type": "code",
      "execution_count": null,
      "metadata": {
        "id": "1zENh4DQzNMb"
      },
      "outputs": [],
      "source": [
        "model.save(\"/content/model_0.h5\")"
      ]
    },
    {
      "cell_type": "code",
      "execution_count": null,
      "metadata": {
        "id": "Rj6t3crLl_Y0"
      },
      "outputs": [],
      "source": [
        "import os\n",
        "def get_file_size(file_path):\n",
        "  size=os.path.getsize(file_path)\n",
        "  return size\n",
        "\n",
        "def convert_bytes(size,unit=None):\n",
        "  if unit==\"KB\":\n",
        "    return print(\"File size: \"+str(round(size/1024,3))+\" Kilobytes\")\n",
        "  elif unit==\"MB\":\n",
        "    return print(\"File size: \"+str(round(size/(1024*1024),3))+\" Megabytes\")\n",
        "  else:\n",
        "    return print(\"File size: \"+str(size)+\"bytes\")"
      ]
    },
    {
      "cell_type": "code",
      "execution_count": null,
      "metadata": {
        "colab": {
          "base_uri": "https://localhost:8080/"
        },
        "id": "m52QuAlPl_Y3",
        "outputId": "4b8fc843-09af-4efb-cb3c-919d4107e1e2"
      },
      "outputs": [
        {
          "name": "stdout",
          "output_type": "stream",
          "text": [
            "File size: 0.218 Megabytes\n"
          ]
        }
      ],
      "source": [
        "# Model Size Before Model Quantization\n",
        "model=\"/content/model_0.h5\"\n",
        "convert_bytes(get_file_size(model),\"MB\")"
      ]
    },
    {
      "cell_type": "code",
      "execution_count": null,
      "metadata": {
        "colab": {
          "base_uri": "https://localhost:8080/"
        },
        "id": "Owq-SWekrpF2",
        "outputId": "344b1348-1e27-48ce-975e-73f151161f97"
      },
      "outputs": [
        {
          "data": {
            "text/plain": [
              "TensorShape([480, 128, 128, 1])"
            ]
          },
          "execution_count": 111,
          "metadata": {},
          "output_type": "execute_result"
        }
      ],
      "source": [
        "X=np.expand_dims(X,-1)\n",
        "X=tf.cast(X,tf.float32)\n",
        "X.shape "
      ]
    },
    {
      "cell_type": "code",
      "execution_count": null,
      "metadata": {
        "id": "OfpCeOl2N8T8"
      },
      "outputs": [],
      "source": [
        "def dataset_generator():\n",
        "   for i in range(100):\n",
        "      input_image = tf.cast(X[i], tf.float32)\n",
        "      input_image = tf.reshape(input_image, [1,IMAGE_SIZE,IMAGE_SIZE,1])\n",
        "      yield ([input_image])"
      ]
    },
    {
      "cell_type": "code",
      "execution_count": null,
      "metadata": {
        "id": "BCvfDqxtmtD0"
      },
      "outputs": [],
      "source": [
        "import tensorflow as tf\n",
        "model=\"/content/model_0.h5\"\n",
        "model=tf.keras.models.load_model(model)\n",
        "converter = tf.lite.TFLiteConverter.from_keras_model(model)\n",
        "converter.optimizations=[tf.lite.Optimize.DEFAULT]\n",
        "converter.target_spec.supported_ops = [tf.lite.OpsSet.TFLITE_BUILTINS_INT8]\n",
        "converter.representative_dataset=dataset_generator\n",
        "tflite_model_name=\"model.tflite\"\n",
        "tflite_model = converter.convert()\n",
        "open(tflite_model_name,\"wb\").write(tflite_model)"
      ]
    },
    {
      "cell_type": "code",
      "execution_count": null,
      "metadata": {
        "id": "4sEBDJwxmtD0"
      },
      "outputs": [],
      "source": [
        "# Model Size After Model Quantization\n",
        "tflite_model=\"/content/model.tflite\"\n",
        "convert_bytes(get_file_size(tflite_model),\"KB\")"
      ]
    },
    {
      "cell_type": "code",
      "execution_count": null,
      "metadata": {
        "id": "BbA3OIQbxk-F"
      },
      "outputs": [],
      "source": [
        "import binascii\n",
        "def convert_to_c_array(bytes) -> str:\n",
        "  hexstr = binascii.hexlify(bytes).decode(\"UTF-8\")\n",
        "  hexstr = hexstr.upper()\n",
        "  array = [\"0x\" + hexstr[i:i + 2] for i in range(0, len(hexstr), 2)]\n",
        "  array = [array[i:i+10] for i in range(0, len(array), 10)]\n",
        "  return \",\\n  \".join([\", \".join(e) for e in array])\n",
        "\n",
        "tflite_binary = open('model.tflite', 'rb').read()\n",
        "ascii_bytes = convert_to_c_array(tflite_binary)\n",
        "header_file = \"const unsigned char model_tflite[] = {\\n  \" + ascii_bytes + \"\\n};\\nunsigned int model_tflite_len = \" + str(len(tflite_binary)) + \";\"\n",
        "open(\"model_0.h\", \"w\").write(header_file)\n",
        "convert_bytes(get_file_size('/content/model_0.h'),\"KB\")"
      ]
    },
    {
      "cell_type": "code",
      "execution_count": null,
      "metadata": {
        "id": "1muAoUm8lSXL"
      },
      "outputs": [],
      "source": [
        "converter = tf.lite.TFLiteConverter.from_saved_model(MODEL_TF)\n",
        "model_no_quant_tflite = converter.convert()\n",
        "open(MODEL_NO_QUANT_TFLITE, \"wb\").write(model_no_quant_tflite)\n",
        "def representative_dataset():\n",
        "  for i in range(500):\n",
        "    yield([x_train[i].reshape(1, 1)])\n",
        "converter.optimizations = [tf.lite.Optimize.DEFAULT]\n",
        "converter.target_spec.supported_ops = [tf.lite.OpsSet.TFLITE_BUILTINS_INT8]\n",
        "converter.representative_dataset = representative_dataset\n",
        "model_tflite = converter.convert()\n",
        "open(MODEL_TFLITE, \"wb\").write(model_tflite)"
      ]
    }
  ],
  "metadata": {
    "accelerator": "GPU",
    "colab": {
      "provenance": [],
      "authorship_tag": "ABX9TyMac+raY8XV4h936Yk6XN3B",
      "include_colab_link": true
    },
    "gpuClass": "standard",
    "kernelspec": {
      "display_name": "Python 3",
      "name": "python3"
    },
    "language_info": {
      "name": "python"
    }
  },
  "nbformat": 4,
  "nbformat_minor": 0
}